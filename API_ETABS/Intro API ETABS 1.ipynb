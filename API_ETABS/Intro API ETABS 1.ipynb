{
 "cells": [
  {
   "cell_type": "markdown",
   "metadata": {},
   "source": [
    "# Librerias"
   ]
  },
  {
   "cell_type": "code",
   "execution_count": 1,
   "metadata": {},
   "outputs": [],
   "source": [
    "import os\n",
    "import sys\n",
    "import comtypes.client\n",
    "import pandas as pd\n",
    "import numpy as np\n",
    "import matplotlib.pyplot as plt"
   ]
  },
  {
   "cell_type": "markdown",
   "metadata": {},
   "source": [
    "# Modo de conexion con el programa\n",
    "\n",
    "- Abriremos automaticamente una ventana de Etabs\n",
    "\n",
    "- Ingresaremos Informacion atraves de codigo Python\n",
    "\n",
    "- Dibujaremos elementos frame y area a traves de codigo Python"
   ]
  },
  {
   "cell_type": "code",
   "execution_count": 2,
   "metadata": {},
   "outputs": [],
   "source": [
    "# True: Trabajará con el programa ETBAS que esté abierto\n",
    "# False: Se abrirá una nueva ventana del programa de manera Automatica \n",
    "AttachToInstance = False"
   ]
  },
  {
   "cell_type": "markdown",
   "metadata": {},
   "source": [
    "# Complemento de conexion"
   ]
  },
  {
   "cell_type": "code",
   "execution_count": 3,
   "metadata": {},
   "outputs": [],
   "source": [
    "# True: Trabajará con el programa ETBAS que esté abierto\n",
    "# False: Se abrirá una nueva ventana del programa de manera Automatica \n",
    "AttachToInstance = False\n",
    "# True: para especificar manualmente la ruta a ETABS.exe\n",
    "# False: se usará la última versión instalada de ETABS\n",
    "SpecifyPath = False\n",
    "# si el indicador anterior está en True, especifique la ruta a ETABS a continuación\n",
    "ProgramPath = \"D:\\ToolBox\\Softwares\\Etabs 20\\ ETABS. exe\"\n",
    "# ruta completa del modelo \n",
    "# ajústelo a la ruta deseada de su modelo\n",
    "APIPath = 'D:\\ToolBox\\Softwares\\Etabs 20'\n",
    "if not os.path.exists(APIPath):\n",
    "    try:\n",
    "        os.makedirs(APIPath)\n",
    "    except OSError:\n",
    "        pass\n",
    "ModelPath = APIPath + os.sep + 'API_1-001.edb'\n",
    "# crear objeto API helper\n",
    "helper = comtypes.client.CreateObject('ETABSv1.Helper')\n",
    "helper = helper.QueryInterface(comtypes.gen.ETABSv1.cHelper)\n",
    "if AttachToInstance:\n",
    "    try:\n",
    "        # obtener el objeto ETABS activo\n",
    "        myETABSObject = helper.GetObject(\"CSI.ETABS.API.ETABSObject\") \n",
    "    except (OSError, comtypes.COMError):\n",
    "        print(\"No running instance of the program found or failed to attach.\")\n",
    "        sys.exit(-1)\n",
    "else:\n",
    "    if SpecifyPath:\n",
    "        try:\n",
    "            # crear una instancia del objeto ETABS a partir de la ruta especificada\n",
    "            myETABSObject = helper.CreateObject(ProgramPath)\n",
    "        except (OSError, comtypes.COMError):\n",
    "            print(\"Cannot start a new instance of the program from \" + ProgramPath)\n",
    "            sys.exit(-1)\n",
    "    else:\n",
    "        try: \n",
    "            # crear una instancia del objeto ETABS a partir del último ETABS instalado\n",
    "            myETABSObject = helper.CreateObjectProgID(\"CSI.ETABS.API.ETABSObject\") \n",
    "        except (OSError, comtypes.COMError):\n",
    "            print(\"Cannot start a new instance of the program.\")\n",
    "            sys.exit(-1)\n",
    "    # Comenzar la aplicacion de ETABS\n",
    "    myETABSObject.ApplicationStart()\n",
    "# Crear un objeto SapModel\n",
    "ret = SapModel = myETABSObject.SapModel\n",
    "# Iniciar Modelo\n",
    "ret = SapModel.InitializeNewModel()"
   ]
  },
  {
   "cell_type": "code",
   "execution_count": 4,
   "metadata": {},
   "outputs": [
    {
     "data": {
      "text/plain": [
       "0"
      ]
     },
     "execution_count": 4,
     "metadata": {},
     "output_type": "execute_result"
    }
   ],
   "source": [
    "# crear objeto API helper\n",
    "helper = comtypes.client.CreateObject('ETABSv1.Helper')\n",
    "helper = helper.QueryInterface(comtypes.gen.ETABSv1.cHelper)\n",
    "\n",
    "myETABSObject = helper.CreateObjectProgID(\"CSI.ETABS.API.ETABSObject\")     # Abrir una nueva ventana de Etabs\n",
    "# myETABSObject = helper.GetObject(\"CSI.ETABS.API.ETABSObject\")            # Trabajar con una ventana abierta de Etabs\n",
    "\n",
    "myETABSObject.ApplicationStart()\n",
    "\n",
    "# Crear un objeto SapModel\n",
    "SapModel = myETABSObject.SapModel\n",
    "\n",
    "# Iniciar Modelo\n",
    "SapModel.InitializeNewModel()"
   ]
  },
  {
   "cell_type": "markdown",
   "metadata": {},
   "source": [
    "# Definicion de espacio de trabajo\n",
    "\n",
    "las unidades con las que inicia es kip, ft, F, se recomienda controlar las unidades de inicio\n",
    "```python\n",
    "# Crear un modelo en blanco\n",
    "ret = SapModel.File.NewBlank()\n",
    "\n",
    "# Crear Grillas\n",
    "ret = SapModel.File.NewGridOnly(10,12,12,4,4,24,24)\n",
    "\n",
    "# Crear plantilla de Steel Deck\n",
    "ret = SapModel.File.NewSteelDeck(4,12,12,4,4,24,24)\n",
    "\n",
    "# Abrir un archivo de Etabs\n",
    "PathFile = \"C:\\modeletabs\\MODELO EDIFICIO 10 PISOS.edb\"\n",
    "ret = SapModel.File.OpenFile(PathFile)\n",
    "\n",
    "# Guardar un archivo de Etabs\n",
    "os.makedirs('C:\\Ejemplo Structural Tech', exist_ok=True)\n",
    "ret = SapModel.File.Save(\"C:\\Ejemplo Structural Tech\\example.edb\")\n",
    "\n",
    "```\n"
   ]
  },
  {
   "cell_type": "code",
   "execution_count": 5,
   "metadata": {},
   "outputs": [
    {
     "data": {
      "text/plain": [
       "0"
      ]
     },
     "execution_count": 5,
     "metadata": {},
     "output_type": "execute_result"
    }
   ],
   "source": [
    "# Crear un modelo en blanco\n",
    "SapModel.File.NewBlank()"
   ]
  },
  {
   "cell_type": "markdown",
   "metadata": {},
   "source": [
    "```python\n",
    "# Crear Grillas\n",
    "SapModel.File.NewGridOnly(10,   # Numeros de Pisos\n",
    "                          12,   # Altura Tipica de Piso\n",
    "                          12,   # Altura del primer piso\n",
    "                          4,    # Numero de Lineas en X\n",
    "                          4,    # Numero de Lineas en Y\n",
    "                          24,   # Espaciamiento en X\n",
    "                          24)   # Espaciamiento en Y\n",
    "\n",
    "# Crear plantilla de Steel Deck\n",
    "SapModel.File.NewSteelDeck(4,   # Numeros de Pisos\n",
    "                          12,   # Altura Tipica de Piso\n",
    "                          12,   # Altura del primer piso\n",
    "                          4,    # Numero de Lineas en X\n",
    "                          4,    # Numero de Lineas en Y\n",
    "                          24,   # Espaciamiento en X\n",
    "                          24)   # Espaciamiento en Y                "
   ]
  },
  {
   "cell_type": "code",
   "execution_count": 6,
   "metadata": {},
   "outputs": [],
   "source": [
    "# # Ejemplo extra\n",
    "# SapModel.SetPresentUnits(8) # kgf, m, C\n",
    "\n",
    "# StoryNames = ['Story 1', 'Story 2', 'Story 3', 'Story 4', 'Story 5', 'Story 6']\n",
    "# StoryHeights = [3.5, 3.5, 3.0, 3.26, 2.8, 3.0]\n",
    "# IsMasterStory = [True, False, False, False, False, True]\n",
    "# SimilarStories = ['None', 'Story 1', 'Story 1', 'Story 1', 'Story 1', 'None']\n",
    "# SpliceAbove = [False, False, False, False, False, False]\n",
    "# SpliceHeight = [0.0, 0.0, 0.0, 0.0, 0.0, 0.0]\n",
    "# ColorSt = [65535, 0, 255, 0, 0, 0]\n",
    "# nStorys = len(StoryNames)\n",
    "\n",
    "# # cota de inicio en cero, puede ser -10 , lo cual indicaria que hay dos sotanos\n",
    "# ret = SapModel.Story.SetStories_2(0, nStorys, StoryNames, StoryHeights, IsMasterStory, SimilarStories, SpliceAbove, SpliceHeight, ColorSt)"
   ]
  },
  {
   "cell_type": "markdown",
   "metadata": {},
   "source": [
    "# Definicion de materiales\n",
    "\n",
    "- Concreto Armado   = 2\n",
    "- Acero de Refuerzo = 6\n",
    "- Albañileria       = 8"
   ]
  },
  {
   "cell_type": "markdown",
   "metadata": {},
   "source": [
    "**Propiedades mecanicas del Concreto**\n",
    "\n",
    "Crear dos tipos de concreto 280\n",
    "\n",
    "Crear un material de Albañileria"
   ]
  },
  {
   "cell_type": "code",
   "execution_count": 7,
   "metadata": {},
   "outputs": [
    {
     "data": {
      "text/plain": [
       "0"
      ]
     },
     "execution_count": 7,
     "metadata": {},
     "output_type": "execute_result"
    }
   ],
   "source": [
    "# Cambiar unidades a kgf_m_C \n",
    "kgf_m_C = 8\n",
    "SapModel.SetPresentUnits(kgf_m_C)\n",
    "\n",
    "# Definir Propiedades del Material\n",
    "MATERIAL_MASONRY = 8\n",
    "SapModel.PropMaterial.SetMaterial('Albañileria',         # Nombre del material\n",
    "                                 MATERIAL_MASONRY)       # Tipo de material\n",
    "                                        \n",
    "\n",
    "# Asignar propiedades mecanicas isotropicas al material\n",
    "SapModel.PropMaterial.SetMPIsotropic('Albañileria',     # Nombre del material\n",
    "                                    1234,               # Modulo de elasticidad\n",
    "                                    0.1,                # Coeficiente de Poisson\n",
    "                                    0.0000055)          # Constante de dilatacion termica\n"
   ]
  },
  {
   "cell_type": "code",
   "execution_count": 8,
   "metadata": {},
   "outputs": [
    {
     "data": {
      "text/plain": [
       "0"
      ]
     },
     "execution_count": 8,
     "metadata": {},
     "output_type": "execute_result"
    }
   ],
   "source": [
    "# Cambiar unidades a kgf_m_C\n",
    "kgf_m_C = 8\n",
    "SapModel.SetPresentUnits(kgf_m_C)\n",
    "\n",
    "# Crear Material\n",
    "MATERIAL_CONCRETO = 2\n",
    "SapModel.PropMaterial.SetMaterial('CONCRETO280',            # Nombre del material\n",
    "                                   MATERIAL_CONCRETO)       # Tipo de material\n",
    "\n",
    "E = 15000*(280**0.5)*10000      # (kgf/m2)\n",
    "\n",
    "# Asignar propiedades mecanicas  al material\n",
    "SapModel.PropMaterial.SetMPIsotropic('CONCRETO280',         # Nombre del material\n",
    "                                    E,                      # Modulo de elasticidad\n",
    "                                    0.2,                    # Coeficiente de Poisson\n",
    "                                    0.00055)                # Constante de dilatacion termica\n",
    "\n",
    "# Cambiar el peso especifico del material\n",
    "SapModel.PropMaterial.SetWeightAndMass('CONCRETO280',      # Nombre del material\n",
    "                                             1,            # 1: Peso por unidad de volumen \n",
    "                                             2400)         # Peso por unidad de volumen "
   ]
  },
  {
   "cell_type": "markdown",
   "metadata": {},
   "source": [
    "**Propiedades Mecanicas del Acero de Refuerzo**"
   ]
  },
  {
   "cell_type": "code",
   "execution_count": 9,
   "metadata": {},
   "outputs": [
    {
     "data": {
      "text/plain": [
       "0"
      ]
     },
     "execution_count": 9,
     "metadata": {},
     "output_type": "execute_result"
    }
   ],
   "source": [
    "# Definir Propiedades del Material\n",
    "MATERIAL_REBAR = 6\n",
    "SapModel.PropMaterial.SetMaterial('REBAR', \n",
    "                                   MATERIAL_REBAR)\n",
    "                                 \n",
    "\n",
    "# Asignar propiedades mecanicas isotropicas al material\n",
    "SapModel.PropMaterial.SetMPIsotropic('REBAR', \n",
    "                                    3600, \n",
    "                                    0.2, \n",
    "                                    0.0000055)\n"
   ]
  },
  {
   "cell_type": "code",
   "execution_count": 10,
   "metadata": {},
   "outputs": [],
   "source": [
    "# ## Ejemplo\n",
    "# kgf_m_C = 8\n",
    "# SapModel.SetPresentUnits(kgf_m_C)\n",
    "\n",
    "# MATERIAL_CONCRETE = 2\n",
    "# SapModel.PropMaterial.SetMaterial('CONCRETO_280_2', MATERIAL_CONCRETE)\n",
    "# E = 15000*(280**0.5)*10000   # (kgf/m2)\n",
    "# SapModel.PropMaterial.SetMPIsotropic('CONCRETO_280_2',E , 0.2, 9.90E-06)\n",
    "# SapModel.PropMaterial.SetWeightAndMass('CONCRETO_280_2', 1, 2400)\n",
    "\n",
    "# SapModel.PropMaterial.SetOConcrete('CONCRETO_280_2', 2800000, False, 0, 1, 2, 0.0022, 0.0052)"
   ]
  },
  {
   "cell_type": "markdown",
   "metadata": {},
   "source": [
    "# Unidades de Trabajo"
   ]
  },
  {
   "cell_type": "markdown",
   "metadata": {},
   "source": [
    "- kgf_m_C = 8\n",
    "- Ton_m_C = 12\n",
    "- Kg_cm_C = 14"
   ]
  },
  {
   "cell_type": "code",
   "execution_count": 11,
   "metadata": {},
   "outputs": [
    {
     "data": {
      "text/plain": [
       "0"
      ]
     },
     "execution_count": 11,
     "metadata": {},
     "output_type": "execute_result"
    }
   ],
   "source": [
    "# Cambiar unidades a kgf_m_C \n",
    "kgf_m_C = 8\n",
    "SapModel.SetPresentUnits(kgf_m_C)"
   ]
  },
  {
   "cell_type": "code",
   "execution_count": 12,
   "metadata": {},
   "outputs": [
    {
     "data": {
      "text/plain": [
       "0"
      ]
     },
     "execution_count": 12,
     "metadata": {},
     "output_type": "execute_result"
    }
   ],
   "source": [
    "SapModel.View.RefreshView(0,          # 0: Refresh todas las ventanas\n",
    "                        False)        # False: No matener el zoom"
   ]
  },
  {
   "cell_type": "markdown",
   "metadata": {},
   "source": [
    "# Definir elementos "
   ]
  },
  {
   "cell_type": "markdown",
   "metadata": {},
   "source": [
    "## Frame"
   ]
  },
  {
   "cell_type": "code",
   "execution_count": 13,
   "metadata": {},
   "outputs": [
    {
     "data": {
      "text/plain": [
       "0"
      ]
     },
     "execution_count": 13,
     "metadata": {},
     "output_type": "execute_result"
    }
   ],
   "source": [
    "# Cambiar unidades a kgf_m_C \n",
    "kgf_m_C = 8\n",
    "SapModel.SetPresentUnits(kgf_m_C)\n",
    "\n",
    "# FrameObj Interface\n",
    "# Definir las propiedades de Seccion a un Frame rectangular   \n",
    "SapModel.PropFrame.SetRectangle('R1',               # Nombre del nuevo frame\n",
    "                                'CONCRETO280',      # Nombre del Material, debe existir\n",
    "                                0.6,                # peralte\n",
    "                                0.3 )               # base\n",
    "                                \n",
    "# Datos extra para Frame Vigas        \n",
    "SapModel.PropFrame.SetRebarBeam(\"R1\",               # Nombre de un frame existente\n",
    "                                \"REBAR\",            # Material del acero longitudinal\n",
    "                                \"REBAR\",            # Material del acero transversal\n",
    "                                0.06,               # Recubrimiento superior   6cm\n",
    "                                0.06,               # Recubrimiento inferior   6cm\n",
    "                                1.29*10**-4,        # Top Left Area\n",
    "                                1.29*10**-4,        # Top Right Area\n",
    "                                1.29*10**-4,        # Bottom Left Area\n",
    "                                1.29*10**-4)        # Bottom Right Area\n",
    "                                "
   ]
  },
  {
   "cell_type": "code",
   "execution_count": 14,
   "metadata": {},
   "outputs": [
    {
     "data": {
      "text/plain": [
       "0"
      ]
     },
     "execution_count": 14,
     "metadata": {},
     "output_type": "execute_result"
    }
   ],
   "source": [
    "# Cambiar unidades a kgf_m_C \n",
    "kgf_m_C = 8\n",
    "SapModel.SetPresentUnits(kgf_m_C)\n",
    "\n",
    "# FrameObj Interface\n",
    "# Definir las propiedades de Seccion a un Frame rectangular   \n",
    "SapModel.PropFrame.SetRectangle('R2',               # Nombre del nuevo frame\n",
    "                                'CONCRETO280',      # Nombre del Material, debe existir\n",
    "                                0.45,               # peralte\n",
    "                                0.45 )              # base\n",
    "\n",
    "\n",
    "# Datos extra para Frame Columnas\n",
    "SapModel.PropFrame.SetRebarColumn(\"R2\",         # Name de un frame existente\n",
    "                                \"REBAR\",        # Material del acero longitudinal\n",
    "                                \"REBAR\",        # Material del acero transversal\n",
    "                                1,              # Pattern  (Rectangular = 1  /   Circular = 2)\n",
    "                                1,              # Tipo de Cofinamiento  (Ties = 1  /   Spiral = 2)\n",
    "                                2,              # Recubrimiento de la columna  4cm\n",
    "                                10,             # Solo Aplica para la Columnas Circulares, Numero total de barras\n",
    "                                4,              # Solo Aplica para la Columnas Rectangulares, Numero de barras en el eje local 3\n",
    "                                3,              # Solo Aplica para la Columnas Rectangulares, Numero de barras en el eje local 2\n",
    "                                \"#10\",          # El diametro del acero longitudinal\n",
    "                                \"#5\",           # El diametro del acero transversal\n",
    "                                4,              # Espaciamiento de los estribos\n",
    "                                4,              # Numero de estribos alrededor del eje local 2\n",
    "                                4,              # Numero de estribos alrededor del eje local 3\n",
    "                                False)          # False = No va a ser diseñada, True = Va a ser diseñada\n"
   ]
  },
  {
   "cell_type": "code",
   "execution_count": 15,
   "metadata": {},
   "outputs": [
    {
     "data": {
      "text/plain": [
       "[(1000.0, 0.0, 0.0, 1.0, 1.0, 1.0, 1.0, 1.0), 0]"
      ]
     },
     "execution_count": 15,
     "metadata": {},
     "output_type": "execute_result"
    }
   ],
   "source": [
    "# Definir modificadores de propiedad a un Frame\n",
    "ModValue = [1000, 0, 0, 1, 1, 1, 1, 1]\n",
    "SapModel.PropFrame.SetModifiers('R2', ModValue)"
   ]
  },
  {
   "cell_type": "code",
   "execution_count": 16,
   "metadata": {},
   "outputs": [],
   "source": [
    "# ## Ejemplos Extras\n",
    "# # Columnas\n",
    "# # Cambiar unidades a kgf_m_C \n",
    "# kgf_m_C = 8\n",
    "# ret = SapModel.SetPresentUnits(kgf_m_C)\n",
    "\n",
    "\n",
    "# # Seccion Rectangular\n",
    "# SapModel.PropFrame.SetRectangle('C-01', 'CONCRETO280', 0.50, 0.50)\n",
    "# SapModel.PropFrame.SetRebarColumn('C-01', 'REBAR', 'REBAR', 1, 1, 0.04, 0, 4, 5, '#5', '#3', 0.125, 4, 2, True)\n",
    "\n",
    "# # Seccion Circular\n",
    "# SapModel.PropFrame.SetCircle('C-02', 'CONCRETO280', 0.50)\n",
    "# SapModel.PropFrame.SetRebarColumn('C-02', 'REBAR', 'REBAR', 2, 1, 0.04, 6, 4, 5, '#5', '#3', 0.125, 4, 2, True)\n",
    "\n",
    "# # Seccion T\n",
    "# SapModel.PropFrame.SetTee('C-03', 'CONCRETO280', 0.55, 0.8, 0.25, 0.3)\n",
    "# SapModel.PropFrame.SetRebarColumn('C-03', 'REBAR', 'REBAR', 1, 1, 0.04, 0, 4, 5, '#5', '#3', 0.125, 4, 2, True)\n",
    "\n",
    "# ## Viga \n",
    "# SapModel.PropFrame.SetRectangle('REC1','CONCRETO280',  0.6,0.3 )\n",
    "# SapModel.PropFrame.SetRebarBeam(\"REC1\", \"REBAR\", \"REBAR\", 3.5,3,4.1, 4.2,  4.3, 4.4 )"
   ]
  }
 ],
 "metadata": {
  "kernelspec": {
   "display_name": "Python 3",
   "language": "python",
   "name": "python3"
  },
  "language_info": {
   "codemirror_mode": {
    "name": "ipython",
    "version": 3
   },
   "file_extension": ".py",
   "mimetype": "text/x-python",
   "name": "python",
   "nbconvert_exporter": "python",
   "pygments_lexer": "ipython3",
   "version": "3.11.9"
  },
  "orig_nbformat": 4
 },
 "nbformat": 4,
 "nbformat_minor": 2
}
