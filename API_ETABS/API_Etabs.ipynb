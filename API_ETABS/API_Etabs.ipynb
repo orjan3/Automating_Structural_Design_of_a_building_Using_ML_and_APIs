{
 "cells": [
  {
   "cell_type": "code",
   "execution_count": 36,
   "metadata": {},
   "outputs": [],
   "source": [
    "ruta = r\"C:\\Program Files\\Computers and Structures\\ETABS 20\\CSI API ETABS v1.chm\"\n",
    "os.startfile(ruta)"
   ]
  },
  {
   "cell_type": "markdown",
   "metadata": {},
   "source": [
    "# Librerias"
   ]
  },
  {
   "cell_type": "code",
   "execution_count": 1,
   "metadata": {},
   "outputs": [],
   "source": [
    "#                                                   LIBRARIES\n",
    "import os\n",
    "import sys\n",
    "import comtypes.client\n",
    "import pandas as pd\n",
    "import numpy as np\n",
    "import matplotlib.pyplot as plt"
   ]
  },
  {
   "cell_type": "code",
   "execution_count": 3,
   "metadata": {},
   "outputs": [],
   "source": [
    "#                                               INIT INSTANCE\n",
    "helper = comtypes.client.CreateObject('ETABSv1.Helper')\n",
    "helper = helper.QueryInterface(comtypes.gen.ETABSv1.cHelper)\n",
    "\n",
    "# myETABSObject = helper.CreateObjectProgID(\"CSI.ETABS.API.ETABSObject\")     # Abrir una nueva ventana de Etabs\n",
    "myETABSObject = helper.GetObject(\"CSI.ETABS.API.ETABSObject\")            # Trabajar con una ventana abierta de Etabs\n",
    "\n",
    "# myETABSObject.ApplicationStart()\n",
    "\n",
    "SapModel = myETABSObject.SapModel               # Crear un objeto SapModel\n",
    "\n",
    "#SapModel.InitializeNewModel()                   # Iniciar Modelo\n",
    "\n",
    "#SapModel.File.NewBlank()                        # Crear un modelo en blanco"
   ]
  },
  {
   "cell_type": "code",
   "execution_count": 40,
   "metadata": {},
   "outputs": [
    {
     "data": {
      "text/plain": [
       "0"
      ]
     },
     "execution_count": 40,
     "metadata": {},
     "output_type": "execute_result"
    }
   ],
   "source": [
    "#                                                   INSERT UNITS\n",
    "kgf_m_C = 8\n",
    "SapModel.SetPresentUnits(kgf_m_C)\n",
    "\n",
    "MATERIAL_CONCRETE = 2\n",
    "SapModel.PropMaterial.SetMaterial('CONCRETO280', MATERIAL_CONCRETE)\n",
    "E = 15000*(280**0.5)*10000   # (kgf/m2)\n",
    "SapModel.PropMaterial.SetMPIsotropic('CONCRETO280', E, 0.2, 9.90E-06)\n",
    "SapModel.PropMaterial.SetWeightAndMass('CONCRETO280', 1, 2400)\n",
    "SapModel.PropMaterial.SetOConcrete('CONCRETO280', 2800000, False, 0, 1, 2, 0.0022, 0.0052)\n",
    "\n",
    "MATERIAL_REBAR = 6\n",
    "SapModel.PropMaterial.SetMaterial('REBAR', MATERIAL_REBAR)\n",
    "SapModel.PropMaterial.SetMPIsotropic('REBAR', 2.0E10, 0.2, 9.90E-06)\n",
    "SapModel.PropMaterial.SetWeightAndMass('REBAR', 1, 7850)\n",
    "SapModel.PropMaterial.SetORebar(\"REBAR\", 42000000, 63000000, 46000000, 69000000, 2, 2, 0.02, 0.1, False)"
   ]
  },
  {
   "cell_type": "code",
   "execution_count": 41,
   "metadata": {},
   "outputs": [
    {
     "data": {
      "text/plain": [
       "0"
      ]
     },
     "execution_count": 41,
     "metadata": {},
     "output_type": "execute_result"
    }
   ],
   "source": [
    "#                                                   DEFINE: FRAMES\n",
    "# FrameObj Interface\n",
    "# Definir las propiedades de Seccion a un Frame rectangular\n",
    "SapModel.PropFrame.SetRectangle('R1',               # Nombre del nuevo frame\n",
    "                                'CONCRETO280',      # Nombre del Material, debe existir\n",
    "                                0.6,                # peralte\n",
    "                                0.3 )               # base\n",
    "                                \n",
    "# Datos extra para Frame Vigas        \n",
    "SapModel.PropFrame.SetRebarBeam(\"R1\",               # Nombre de un frame existente\n",
    "                                \"REBAR\",            # Material del acero longitudinal\n",
    "                                \"REBAR\",            # Material del acero transversal\n",
    "                                0.06,               # Recubrimiento superior   6cm\n",
    "                                0.06,               # Recubrimiento inferior   6cm\n",
    "                                1.29*10**-4,        # Top Left Area\n",
    "                                1.29*10**-4,        # Top Right Area\n",
    "                                1.29*10**-4,        # Bottom Left Area\n",
    "                                1.29*10**-4)        # Bottom Right Area\n",
    "\n",
    "# # Añadir objeto Frame por Coordenadas\n",
    "# FrameName1 = ' '\n",
    "# [FrameName1, _] = SapModel.FrameObj.AddByCoord(0, 0, 0,      # Coordenadas X,Y,Z del punto inicial\n",
    "#                                               0, 0, 10,      # Coordenadas X,Y,Z del punto final\n",
    "#                                               FrameName1,    # Vacio, el programa asignará un nombre por defecto\n",
    "#                                               'R1')          # Nombre de la seccion, debe existir el nombre de esa seccion, opcional\n",
    "\n",
    "# FrameName2 = ' '\n",
    "# FrameName3 = ' '\n",
    "# [FrameName2, ret] = SapModel.FrameObj.AddByCoord(0, 0, 10, 8, 0, 16, FrameName2, 'R1')\n",
    "# [FrameName3, ret] = SapModel.FrameObj.AddByCoord(-4, 0, 10, 0, 0, 10, FrameName3, 'R1')"
   ]
  },
  {
   "cell_type": "code",
   "execution_count": 42,
   "metadata": {},
   "outputs": [
    {
     "data": {
      "text/plain": [
       "0"
      ]
     },
     "execution_count": 42,
     "metadata": {},
     "output_type": "execute_result"
    }
   ],
   "source": [
    "#                                                       DEFINE: SLABS\n",
    "SapModel.PropArea.SetSlab(\"Losa Macisa\",          # Nombre de la Losa\n",
    "                          0,                      # Slab Type - Slab\n",
    "                          1,                      # ShellType, ShellThin\n",
    "                          \"CONCRETO280\",          # Material\n",
    "                          0.15)                     # Thickness  \n",
    "\n",
    "#SapModel.PropArea.SetSlab(\"Slab Ribbed2\", 3, 1, \"CONCRETO280\", 0.20)\n",
    "#SapModel.PropArea.SetSlabRibbed(\"Slab Ribbed2\", 0.20, 0.05, 0.1, 0.1, 0.4, 1)\n",
    "# # Definir las propiedades de la Losa Slab\n",
    "# SapModel.PropArea.SetSlab(\"Slab Ribbed\",          # Nombre de la Losa\n",
    "#                           3,                      # Slab Type - Ribbed\n",
    "#                           3,                      # ShellType, ShellThin\n",
    "#                           \"CONCRETO280\",          # Material\n",
    "#                           0.15)                   # Thickness  \n",
    "\n",
    "# # Definir las propiedades de la Losa Ribbed\n",
    "# SapModel.PropArea.SetSlabRibbed(\"Slab Ribbed\",   # Nombre de la Losa\n",
    "#                                  11.1,           # OverallDepth              \n",
    "#                                  22.2,           # SlabThickness\n",
    "#                                  33.3,           # StemWidthTop\n",
    "#                                  44.4,           # StemWidthBottom\n",
    "#                                  55.5,           # RibSpacing\n",
    "#                                  2)              # RibsParallelTo - Local Axis"
   ]
  },
  {
   "cell_type": "code",
   "execution_count": 43,
   "metadata": {},
   "outputs": [
    {
     "data": {
      "text/plain": [
       "0"
      ]
     },
     "execution_count": 43,
     "metadata": {},
     "output_type": "execute_result"
    }
   ],
   "source": [
    "#                                               DEFINE: WALLS\n",
    "SapModel.PropArea.SetWall(\"Placa\",            # Name\n",
    "                          1,                  # WallPropType , Seccion Especificada por el usuario\n",
    "                          1,                  # Shell Type - Shell Thin   \n",
    "                          \"CONCRETO280\",      # Nombre del Material\n",
    "                          0.20)               # Thickness\n",
    "\n",
    "# MyValue = [1, 1, 1, 1, 1, 1, 1, 1, 1]\n",
    "# SapModel.PropArea.SetModifiers(\"Placa\", MyValue)\n",
    "\n",
    "AreaName = ' '\n",
    "x = [0,2,2,0]\n",
    "y = [0,0,0,0]\n",
    "z = [0,0,3,3]\n",
    "SapModel.AreaObj.AddByCoord(4, # Numero de puntos que definen el area\n",
    "                            x, # Coordenadas X\n",
    "                            y, # Coordenadas Y\n",
    "                            z, # Coordenadas Z\n",
    "                            AreaName, # Vacio, el programa asignará un nombre por defecto\n",
    "                            \"Placa\")  # Nombre de la seccion, debe existir el nombre de esa seccion, opcional\n",
    "SapModel.View.RefreshView(0,          # 0: Refresh todas las ventanas\n",
    "                        False)        # False: No matener el zoom"
   ]
  },
  {
   "cell_type": "code",
   "execution_count": 46,
   "metadata": {},
   "outputs": [
    {
     "data": {
      "text/plain": [
       "0"
      ]
     },
     "execution_count": 46,
     "metadata": {},
     "output_type": "execute_result"
    }
   ],
   "source": [
    "#                                                                   EXAMPLE\n",
    "\n",
    "L = 7   # m\n",
    "b = 7   # m\n",
    "B = 7  # m\n",
    "H = 2.7 # m\n",
    "\n",
    "FrameName1 = ' '\n",
    "FrameName2 = ' '\n",
    "FrameName3 = ' '\n",
    "FrameName4 = ' '\n",
    "FrameName5 = ' '\n",
    "FrameName6 = ' '\n",
    "FrameName7 = ' '\n",
    "FrameName8 = ' '\n",
    "# Columnas\n",
    "[FrameName1, ret] = SapModel.FrameObj.AddByCoord(0, 0, 0, 0, 0, H, FrameName1, 'R1')\n",
    "[FrameName2, ret] = SapModel.FrameObj.AddByCoord(B, 0, 0, B, 0, H, FrameName2, 'R1')\n",
    "[FrameName3, ret] = SapModel.FrameObj.AddByCoord(0, L, 0, 0, L, H, FrameName3, 'R1')\n",
    "[FrameName4, ret] = SapModel.FrameObj.AddByCoord(b, L, 0, b, L, H, FrameName4, 'R1')\n",
    "# Vigas\n",
    "[FrameName5, ret] = SapModel.FrameObj.AddByCoord(0, 0, H, B, 0, H, FrameName5, 'R1')\n",
    "[FrameName6, ret] = SapModel.FrameObj.AddByCoord(0, 0, H, 0, L, H, FrameName6, 'R1')\n",
    "[FrameName7, ret] = SapModel.FrameObj.AddByCoord(B, 0, H, b, L, H, FrameName7, 'R1')\n",
    "[FrameName8, ret] = SapModel.FrameObj.AddByCoord(0, L, H, b, L, H, FrameName8, 'R1')\n",
    "\n",
    "AreaName = ' '\n",
    "x = [0,B,b,0]\n",
    "y = [0,0,L,L]\n",
    "z = [H,H,H,H]\n",
    "SapModel.AreaObj.AddByCoord(4, # Numero de puntos que definen el area\n",
    "                            x, # Coordenadas X\n",
    "                            y, # Coordenadas Y\n",
    "                            z, # Coordenadas Z\n",
    "                            AreaName, # Vacio, el programa asignará un nombre por defecto\n",
    "                            \"Losa Macisa\")  # Nombre de la seccion, debe existir el nombre de esa seccion, opcional\n",
    "\n",
    "SapModel.View.RefreshView(0,          # 0: Refresh todas las ventanas\n",
    "                        False)        # False: No matener el zoom"
   ]
  },
  {
   "cell_type": "code",
   "execution_count": 45,
   "metadata": {},
   "outputs": [
    {
     "name": "stdout",
     "output_type": "stream",
     "text": [
      "Connected to ETABS model\n"
     ]
    },
    {
     "ename": "AttributeError",
     "evalue": "GetTableForDisplayArray",
     "output_type": "error",
     "traceback": [
      "\u001b[1;31m---------------------------------------------------------------------------\u001b[0m",
      "\u001b[1;31mKeyError\u001b[0m                                  Traceback (most recent call last)",
      "File \u001b[1;32m~\\AppData\\Local\\Packages\\PythonSoftwareFoundation.Python.3.11_qbz5n2kfra8p0\\LocalCache\\local-packages\\Python311\\site-packages\\comtypes\\__init__.py:315\u001b[0m, in \u001b[0;36m_cominterface_meta.__new__.<locals>.CaseInsensitive.__getattr__\u001b[1;34m(self, name)\u001b[0m\n\u001b[0;32m    314\u001b[0m \u001b[38;5;28;01mtry\u001b[39;00m:\n\u001b[1;32m--> 315\u001b[0m     fixed_name \u001b[38;5;241m=\u001b[39m \u001b[38;5;28;43mself\u001b[39;49m\u001b[38;5;241;43m.\u001b[39;49m\u001b[43m__map_case__\u001b[49m\u001b[43m[\u001b[49m\u001b[43mname\u001b[49m\u001b[38;5;241;43m.\u001b[39;49m\u001b[43mlower\u001b[49m\u001b[43m(\u001b[49m\u001b[43m)\u001b[49m\u001b[43m]\u001b[49m\n\u001b[0;32m    316\u001b[0m \u001b[38;5;28;01mexcept\u001b[39;00m \u001b[38;5;167;01mKeyError\u001b[39;00m:\n",
      "\u001b[1;31mKeyError\u001b[0m: 'gettablefordisplayarray'",
      "\nDuring handling of the above exception, another exception occurred:\n",
      "\u001b[1;31mAttributeError\u001b[0m                            Traceback (most recent call last)",
      "Cell \u001b[1;32mIn[45], line 25\u001b[0m\n\u001b[0;32m     22\u001b[0m TableData \u001b[38;5;241m=\u001b[39m \u001b[38;5;28;01mNone\u001b[39;00m  \u001b[38;5;66;03m# Los datos de la tabla se almacenarán aquí después de la llamada\u001b[39;00m\n\u001b[0;32m     24\u001b[0m \u001b[38;5;66;03m# Llamar al método GetTableForDisplayArray\u001b[39;00m\n\u001b[1;32m---> 25\u001b[0m result \u001b[38;5;241m=\u001b[39m \u001b[43mSapModel\u001b[49m\u001b[38;5;241;43m.\u001b[39;49m\u001b[43mGetTableForDisplayArray\u001b[49m(TableKey, FieldKeyList, GroupName, TableVersion, FieldsKeysIncluded, NumberRecords, TableData)\n\u001b[0;32m     27\u001b[0m \u001b[38;5;66;03m# Verificar si la llamada fue exitosa\u001b[39;00m\n\u001b[0;32m     28\u001b[0m \u001b[38;5;28;01mif\u001b[39;00m result \u001b[38;5;241m!=\u001b[39m \u001b[38;5;241m0\u001b[39m:\n",
      "File \u001b[1;32m~\\AppData\\Local\\Packages\\PythonSoftwareFoundation.Python.3.11_qbz5n2kfra8p0\\LocalCache\\local-packages\\Python311\\site-packages\\comtypes\\__init__.py:317\u001b[0m, in \u001b[0;36m_cominterface_meta.__new__.<locals>.CaseInsensitive.__getattr__\u001b[1;34m(self, name)\u001b[0m\n\u001b[0;32m    315\u001b[0m     fixed_name \u001b[38;5;241m=\u001b[39m \u001b[38;5;28mself\u001b[39m\u001b[38;5;241m.\u001b[39m__map_case__[name\u001b[38;5;241m.\u001b[39mlower()]\n\u001b[0;32m    316\u001b[0m \u001b[38;5;28;01mexcept\u001b[39;00m \u001b[38;5;167;01mKeyError\u001b[39;00m:\n\u001b[1;32m--> 317\u001b[0m     \u001b[38;5;28;01mraise\u001b[39;00m \u001b[38;5;167;01mAttributeError\u001b[39;00m(name)\n\u001b[0;32m    318\u001b[0m \u001b[38;5;28;01mif\u001b[39;00m fixed_name \u001b[38;5;241m!=\u001b[39m name:  \u001b[38;5;66;03m# prevent unbounded recursion\u001b[39;00m\n\u001b[0;32m    319\u001b[0m     \u001b[38;5;28;01mreturn\u001b[39;00m \u001b[38;5;28mgetattr\u001b[39m(\u001b[38;5;28mself\u001b[39m, fixed_name)\n",
      "\u001b[1;31mAttributeError\u001b[0m: GetTableForDisplayArray"
     ]
    }
   ],
   "source": [
    "def connect_to_etabs():\n",
    "    helper = comtypes.client.CreateObject('ETABSv1.Helper')\n",
    "    helper = helper.QueryInterface(comtypes.gen.ETABSv1.cHelper)\n",
    "    try:\n",
    "        myETABSObject = helper.GetObject(\"CSI.ETABS.API.ETABSObject\")\n",
    "        print(\"Connected to ETABS model\")\n",
    "    except (OSError, comtypes.COMError):\n",
    "        print(\"No running instance of the program found or failed to attach.\")\n",
    "        sys.exit(-1)\n",
    "    SapModel = myETABSObject.SapModel\n",
    "    return SapModel,myETABSObject,helper\n",
    "\n",
    "SapModel, myETABSObject, helper = connect_to_etabs()\n",
    "\n",
    "# Definir los parámetros necesarios para llamar al método GetTableForDisplayArray\n",
    "TableKey = \"Nombre_de_la_tabla\"\n",
    "FieldKeyList = None  # Puedes definir una lista de campos si es necesario\n",
    "GroupName = \"\"  # Nombre del grupo, si es necesario\n",
    "TableVersion = 0  # Versión de la tabla, si es necesario\n",
    "FieldsKeysIncluded = None  # Puedes definir una lista de campos si es necesario\n",
    "NumberRecords = 0  # Número de registros, se actualizará después de la llamada\n",
    "TableData = None  # Los datos de la tabla se almacenarán aquí después de la llamada\n",
    "\n",
    "# Llamar al método GetTableForDisplayArray\n",
    "result = SapModel.GetTableForDisplayArray(TableKey, FieldKeyList, GroupName, TableVersion, FieldsKeysIncluded, NumberRecords, TableData)\n",
    "\n",
    "# Verificar si la llamada fue exitosa\n",
    "if result != 0:\n",
    "    print(\"Error al obtener los datos de la tabla.\")\n",
    "else:\n",
    "    # Procesar los datos de la tabla\n",
    "    print(\"Datos de la tabla:\")\n",
    "    print(TableData)\n",
    "\n",
    "# Cerrar ETABS\n",
    "ETABSApp.ApplicationExit()"
   ]
  }
 ],
 "metadata": {
  "kernelspec": {
   "display_name": "Python 3",
   "language": "python",
   "name": "python3"
  },
  "language_info": {
   "codemirror_mode": {
    "name": "ipython",
    "version": 3
   },
   "file_extension": ".py",
   "mimetype": "text/x-python",
   "name": "python",
   "nbconvert_exporter": "python",
   "pygments_lexer": "ipython3",
   "version": "3.11.9"
  },
  "orig_nbformat": 4
 },
 "nbformat": 4,
 "nbformat_minor": 2
}
