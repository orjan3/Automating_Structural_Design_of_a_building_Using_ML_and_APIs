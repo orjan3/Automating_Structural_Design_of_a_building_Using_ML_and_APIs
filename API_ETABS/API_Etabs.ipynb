{
 "cells": [
  {
   "cell_type": "markdown",
   "metadata": {},
   "source": [
    "# Librerias"
   ]
  },
  {
   "cell_type": "code",
   "execution_count": 5,
   "metadata": {},
   "outputs": [],
   "source": [
    "#                                                   LIBRARIES\n",
    "import os\n",
    "import sys\n",
    "import comtypes.client\n",
    "import pandas as pd\n",
    "import numpy as np\n",
    "import matplotlib.pyplot as plt"
   ]
  },
  {
   "cell_type": "code",
   "execution_count": 6,
   "metadata": {},
   "outputs": [
    {
     "data": {
      "text/plain": [
       "0"
      ]
     },
     "execution_count": 6,
     "metadata": {},
     "output_type": "execute_result"
    }
   ],
   "source": [
    "#                                               INIT INSTANCE\n",
    "helper = comtypes.client.CreateObject('ETABSv1.Helper')\n",
    "helper = helper.QueryInterface(comtypes.gen.ETABSv1.cHelper)\n",
    "\n",
    "# myETABSObject = helper.CreateObjectProgID(\"CSI.ETABS.API.ETABSObject\")     # Abrir una nueva ventana de Etabs\n",
    "myETABSObject = helper.GetObject(\"CSI.ETABS.API.ETABSObject\")            # Trabajar con una ventana abierta de Etabs\n",
    "\n",
    "# myETABSObject.ApplicationStart()\n",
    "\n",
    "SapModel = myETABSObject.SapModel               # Crear un objeto SapModel\n",
    "\n",
    "SapModel.InitializeNewModel()                   # Iniciar Modelo\n",
    "\n",
    "SapModel.File.NewBlank()                        # Crear un modelo en blanco"
   ]
  },
  {
   "cell_type": "code",
   "execution_count": 7,
   "metadata": {},
   "outputs": [
    {
     "data": {
      "text/plain": [
       "0"
      ]
     },
     "execution_count": 7,
     "metadata": {},
     "output_type": "execute_result"
    }
   ],
   "source": [
    "#                                               INSERT UNITS\n",
    "kgf_m_C = 8\n",
    "SapModel.SetPresentUnits(kgf_m_C)\n",
    "\n",
    "MATERIAL_CONCRETE = 2\n",
    "SapModel.PropMaterial.SetMaterial('CONCRETO280', MATERIAL_CONCRETE)\n",
    "E = 15000*(280**0.5)*10000   # (kgf/m2)\n",
    "SapModel.PropMaterial.SetMPIsotropic('CONCRETO280', E, 0.2, 9.90E-06)\n",
    "SapModel.PropMaterial.SetWeightAndMass('CONCRETO280', 1, 2400)\n",
    "SapModel.PropMaterial.SetOConcrete('CONCRETO280', 2800000, False, 0, 1, 2, 0.0022, 0.0052)\n",
    "\n",
    "MATERIAL_REBAR = 6\n",
    "SapModel.PropMaterial.SetMaterial('REBAR', MATERIAL_REBAR)\n",
    "SapModel.PropMaterial.SetMPIsotropic('REBAR', 2.0E10, 0.2, 9.90E-06)\n",
    "SapModel.PropMaterial.SetWeightAndMass('REBAR', 1, 7850)\n",
    "SapModel.PropMaterial.SetORebar(\"REBAR\", 42000000, 63000000, 46000000, 69000000, 2, 2, 0.02, 0.1, False)"
   ]
  },
  {
   "cell_type": "code",
   "execution_count": 8,
   "metadata": {},
   "outputs": [
    {
     "data": {
      "text/plain": [
       "0"
      ]
     },
     "execution_count": 8,
     "metadata": {},
     "output_type": "execute_result"
    }
   ],
   "source": [
    "#                                                   CHANGE UNITS\n",
    "kgf_m_C = 8\n",
    "SapModel.SetPresentUnits(kgf_m_C)\n",
    "\n",
    "# FrameObj Interface\n",
    "# Definir las propiedades de Seccion a un Frame rectangular   \n",
    "SapModel.PropFrame.SetRectangle('R1',               # Nombre del nuevo frame\n",
    "                                'CONCRETO280',      # Nombre del Material, debe existir\n",
    "                                0.6,                # peralte\n",
    "                                0.3 )               # base\n",
    "                                \n",
    "# Datos extra para Frame Vigas        \n",
    "SapModel.PropFrame.SetRebarBeam(\"R1\",               # Nombre de un frame existente\n",
    "                                \"REBAR\",            # Material del acero longitudinal\n",
    "                                \"REBAR\",            # Material del acero transversal\n",
    "                                0.06,               # Recubrimiento superior   6cm\n",
    "                                0.06,               # Recubrimiento inferior   6cm\n",
    "                                1.29*10**-4,        # Top Left Area\n",
    "                                1.29*10**-4,        # Top Right Area\n",
    "                                1.29*10**-4,        # Bottom Left Area\n",
    "                                1.29*10**-4)        # Bottom Right Area"
   ]
  },
  {
   "cell_type": "code",
   "execution_count": null,
   "metadata": {},
   "outputs": [],
   "source": [
    "#                                           PROPERTIES: SLAB \n",
    "SapModel.PropArea.SetSlab(\"Losa Macisa\",          # Nombre de la Losa\n",
    "                          0,                      # Slab Type - Slab\n",
    "                          1,                      # ShellType, ShellThin\n",
    "                          \"CONCRETO280\",          # Material\n",
    "                          0.15)                     # Thickness  "
   ]
  },
  {
   "cell_type": "code",
   "execution_count": null,
   "metadata": {},
   "outputs": [],
   "source": [
    "# # Definir las propiedades de la Losa Slab\n",
    "# SapModel.PropArea.SetSlab(\"Slab Ribbed\",          # Nombre de la Losa\n",
    "#                           3,                      # Slab Type - Ribbed\n",
    "#                           3,                      # ShellType, ShellThin\n",
    "#                           \"CONCRETO280\",          # Material\n",
    "#                           0.15)                   # Thickness  \n",
    "\n",
    "# # Definir las propiedades de la Losa Ribbed\n",
    "# SapModel.PropArea.SetSlabRibbed(\"Slab Ribbed\",   # Nombre de la Losa\n",
    "#                                  11.1,           # OverallDepth              \n",
    "#                                  22.2,           # SlabThickness\n",
    "#                                  33.3,           # StemWidthTop\n",
    "#                                  44.4,           # StemWidthBottom\n",
    "#                                  55.5,           # RibSpacing\n",
    "#                                  2)              # RibsParallelTo - Local Axis\n",
    "                                 "
   ]
  },
  {
   "cell_type": "code",
   "execution_count": null,
   "metadata": {},
   "outputs": [],
   "source": [
    "# Ejemplo Extra\n",
    "kgf_m_C = 8\n",
    "SapModel.SetPresentUnits(kgf_m_C)\n",
    "\n",
    "SapModel.PropArea.SetSlab(\"Slab Ribbed2\", 3, 1, \"CONCRETO280\", 0.20)\n",
    "SapModel.PropArea.SetSlabRibbed(\"Slab Ribbed2\", 0.20, 0.05, 0.1, 0.1, 0.4, 1)"
   ]
  },
  {
   "cell_type": "code",
   "execution_count": null,
   "metadata": {},
   "outputs": [],
   "source": [
    "# PROPERTIES: WALLS\n",
    "SapModel.PropArea.SetWall(\"Placa\",            # Name\n",
    "                          1,                  # WallPropType , Seccion Especificada por el usuario\n",
    "                          1,                  # Shell Type - Shell Thin   \n",
    "                          \"CONCRETO280\",      # Nombre del Material\n",
    "                          0.20)               # Thickness"
   ]
  },
  {
   "cell_type": "code",
   "execution_count": null,
   "metadata": {},
   "outputs": [],
   "source": [
    "# MyValue = [1, 1, 1, 1, 1, 1, 1, 1, 1]\n",
    "# SapModel.PropArea.SetModifiers(\"Placa\", MyValue)"
   ]
  },
  {
   "cell_type": "code",
   "execution_count": null,
   "metadata": {},
   "outputs": [],
   "source": [
    "# # Añadir objeto Frame por Coordenadas\n",
    "# FrameName1 = ' '\n",
    "# [FrameName1, _] = SapModel.FrameObj.AddByCoord(0, 0, 0,      # Coordenadas X,Y,Z del punto inicial\n",
    "#                                               0, 0, 10,      # Coordenadas X,Y,Z del punto final\n",
    "#                                               FrameName1,    # Vacio, el programa asignará un nombre por defecto\n",
    "#                                               'R1')          # Nombre de la seccion, debe existir el nombre de esa seccion, opcional"
   ]
  },
  {
   "cell_type": "code",
   "execution_count": null,
   "metadata": {},
   "outputs": [],
   "source": [
    "# FrameName2 = ' '\n",
    "# FrameName3 = ' '\n",
    "# [FrameName2, ret] = SapModel.FrameObj.AddByCoord(0, 0, 10, 8, 0, 16, FrameName2, 'R1')\n",
    "# [FrameName3, ret] = SapModel.FrameObj.AddByCoord(-4, 0, 10, 0, 0, 10, FrameName3, 'R1')"
   ]
  },
  {
   "cell_type": "code",
   "execution_count": null,
   "metadata": {},
   "outputs": [],
   "source": [
    "# AreaName = ' '\n",
    "# x = [0,2,2,0]\n",
    "# y = [0,0,0,0]\n",
    "# z = [0,0,3,3]\n",
    "# SapModel.AreaObj.AddByCoord(4, # Numero de puntos que definen el area\n",
    "#                             x, # Coordenadas X\n",
    "#                             y, # Coordenadas Y\n",
    "#                             z, # Coordenadas Z\n",
    "#                             AreaName, # Vacio, el programa asignará un nombre por defecto\n",
    "#                             \"Placa\")  # Nombre de la seccion, debe existir el nombre de esa seccion, opcional\n",
    "\n",
    "# SapModel.View.RefreshView(0,          # 0: Refresh todas las ventanas\n",
    "#                         False)        # False: No matener el zoom"
   ]
  },
  {
   "cell_type": "code",
   "execution_count": null,
   "metadata": {},
   "outputs": [],
   "source": [
    "kgf_m_C = 8\n",
    "SapModel.SetPresentUnits(kgf_m_C)\n",
    "\n",
    "L = 7   # m\n",
    "b = 7   # m\n",
    "B = 7  # m\n",
    "H = 2.7 # m\n",
    "\n",
    "FrameName1 = ' '\n",
    "FrameName2 = ' '\n",
    "FrameName3 = ' '\n",
    "FrameName4 = ' '\n",
    "FrameName5 = ' '\n",
    "FrameName6 = ' '\n",
    "FrameName7 = ' '\n",
    "FrameName8 = ' '\n",
    "# Columnas\n",
    "[FrameName1, ret] = SapModel.FrameObj.AddByCoord(0, 0, 0, 0, 0, H, FrameName1, 'R1')\n",
    "[FrameName2, ret] = SapModel.FrameObj.AddByCoord(B, 0, 0, B, 0, H, FrameName2, 'R1')\n",
    "[FrameName3, ret] = SapModel.FrameObj.AddByCoord(0, L, 0, 0, L, H, FrameName3, 'R1')\n",
    "[FrameName4, ret] = SapModel.FrameObj.AddByCoord(b, L, 0, b, L, H, FrameName4, 'R1')\n",
    "# Vigas\n",
    "[FrameName5, ret] = SapModel.FrameObj.AddByCoord(0, 0, H, B, 0, H, FrameName5, 'R1')\n",
    "[FrameName6, ret] = SapModel.FrameObj.AddByCoord(0, 0, H, 0, L, H, FrameName6, 'R1')\n",
    "[FrameName7, ret] = SapModel.FrameObj.AddByCoord(B, 0, H, b, L, H, FrameName7, 'R1')\n",
    "[FrameName8, ret] = SapModel.FrameObj.AddByCoord(0, L, H, b, L, H, FrameName8, 'R1')\n",
    "\n",
    "AreaName = ' '\n",
    "x = [0,B,b,0]\n",
    "y = [0,0,L,L]\n",
    "z = [H,H,H,H]\n",
    "SapModel.AreaObj.AddByCoord(4, # Numero de puntos que definen el area\n",
    "                            x, # Coordenadas X\n",
    "                            y, # Coordenadas Y\n",
    "                            z, # Coordenadas Z\n",
    "                            AreaName, # Vacio, el programa asignará un nombre por defecto\n",
    "                            \"Losa Macisa\")  # Nombre de la seccion, debe existir el nombre de esa seccion, opcional\n",
    "\n",
    "SapModel.View.RefreshView(0,          # 0: Refresh todas las ventanas\n",
    "                        False)        # False: No matener el zoom"
   ]
  }
 ],
 "metadata": {
  "kernelspec": {
   "display_name": "Python 3",
   "language": "python",
   "name": "python3"
  },
  "language_info": {
   "codemirror_mode": {
    "name": "ipython",
    "version": 3
   },
   "file_extension": ".py",
   "mimetype": "text/x-python",
   "name": "python",
   "nbconvert_exporter": "python",
   "pygments_lexer": "ipython3",
   "version": "3.11.9"
  },
  "orig_nbformat": 4
 },
 "nbformat": 4,
 "nbformat_minor": 2
}
