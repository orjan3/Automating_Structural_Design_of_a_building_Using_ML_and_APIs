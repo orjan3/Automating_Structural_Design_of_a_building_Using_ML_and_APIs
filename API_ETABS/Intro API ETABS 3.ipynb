{
 "cells": [
  {
   "cell_type": "markdown",
   "metadata": {},
   "source": [
    "# Librerias"
   ]
  },
  {
   "cell_type": "code",
   "execution_count": 3,
   "metadata": {},
   "outputs": [],
   "source": [
    "import os\n",
    "import sys\n",
    "import comtypes.client\n",
    "import pandas as pd\n",
    "import numpy as np\n",
    "import matplotlib.pyplot as plt"
   ]
  },
  {
   "cell_type": "code",
   "execution_count": 4,
   "metadata": {},
   "outputs": [
    {
     "data": {
      "text/plain": [
       "0"
      ]
     },
     "execution_count": 4,
     "metadata": {},
     "output_type": "execute_result"
    }
   ],
   "source": [
    "# crear objeto API helper\n",
    "helper = comtypes.client.CreateObject('ETABSv1.Helper')\n",
    "helper = helper.QueryInterface(comtypes.gen.ETABSv1.cHelper)\n",
    "\n",
    "myETABSObject = helper.CreateObjectProgID(\"CSI.ETABS.API.ETABSObject\")     # Abrir una nueva ventana de Etabs\n",
    "# myETABSObject = helper.GetObject(\"CSI.ETABS.API.ETABSObject\")            # Trabajar con una ventana abierta de Etabs\n",
    "\n",
    "myETABSObject.ApplicationStart()\n",
    "\n",
    "# Crear un objeto SapModel\n",
    "SapModel = myETABSObject.SapModel\n",
    "\n",
    "# Iniciar Modelo\n",
    "SapModel.InitializeNewModel()\n",
    "\n",
    "# Crear un modelo en blanco\n",
    "SapModel.File.NewBlank()"
   ]
  },
  {
   "cell_type": "markdown",
   "metadata": {},
   "source": [
    "# Definicion de materiales"
   ]
  },
  {
   "cell_type": "code",
   "execution_count": 5,
   "metadata": {},
   "outputs": [
    {
     "data": {
      "text/plain": [
       "0"
      ]
     },
     "execution_count": 5,
     "metadata": {},
     "output_type": "execute_result"
    }
   ],
   "source": [
    "kgf_m_C = 8\n",
    "SapModel.SetPresentUnits(kgf_m_C)\n",
    "\n",
    "MATERIAL_CONCRETE = 2\n",
    "SapModel.PropMaterial.SetMaterial('CONCRETO280', MATERIAL_CONCRETE)\n",
    "E = 15000*(280**0.5)*10000   # (kgf/m2)\n",
    "SapModel.PropMaterial.SetMPIsotropic('CONCRETO280', E, 0.2, 9.90E-06)\n",
    "SapModel.PropMaterial.SetWeightAndMass('CONCRETO280', 1, 2400)\n",
    "SapModel.PropMaterial.SetOConcrete('CONCRETO280', 2800000, False, 0, 1, 2, 0.0022, 0.0052)\n",
    "\n",
    "MATERIAL_REBAR = 6\n",
    "SapModel.PropMaterial.SetMaterial('REBAR', MATERIAL_REBAR)\n",
    "SapModel.PropMaterial.SetMPIsotropic('REBAR', 2.0E10, 0.2, 9.90E-06)\n",
    "SapModel.PropMaterial.SetWeightAndMass('REBAR', 1, 7850)\n",
    "SapModel.PropMaterial.SetORebar('REBAR', 42000000, 63000000, 46000000, 69000000, 2, 2, 0.02, 0.1, False)"
   ]
  },
  {
   "cell_type": "code",
   "execution_count": 6,
   "metadata": {},
   "outputs": [
    {
     "data": {
      "text/plain": [
       "0"
      ]
     },
     "execution_count": 6,
     "metadata": {},
     "output_type": "execute_result"
    }
   ],
   "source": [
    "kgf_m_C = 8\n",
    "SapModel.SetPresentUnits(kgf_m_C)\n",
    "\n",
    "SapModel.PropFrame.SetRectangle('R1', 'CONCRETO280', 0.6, 0.3)     \n",
    "SapModel.PropFrame.SetRebarBeam('R1','REBAR','REBAR', 0.06,0.06, 0, 0, 0, 0) "
   ]
  },
  {
   "cell_type": "code",
   "execution_count": 7,
   "metadata": {},
   "outputs": [],
   "source": [
    "FrameName1 = ' '\n",
    "FrameName2 = ' '\n",
    "FrameName3 = ' '\n",
    "[FrameName1, _] = SapModel.FrameObj.AddByCoord(0, 0, 0, 0, 0, 10, FrameName1, 'R1')\n",
    "[FrameName2, _] = SapModel.FrameObj.AddByCoord(0, 0, 10, 8, 0, 16, FrameName2, 'R1')\n",
    "[FrameName3, _] = SapModel.FrameObj.AddByCoord(-4, 0, 10, 0, 0, 10, FrameName3, 'R1')"
   ]
  },
  {
   "cell_type": "code",
   "execution_count": 8,
   "metadata": {},
   "outputs": [],
   "source": [
    "# kgf_m_C = 8\n",
    "# SapModel.SetPresentUnits(kgf_m_C)\n",
    "# SapModel.PropArea.SetSlab(\"Slab Ribbed\", 3, 1, \"CONCRETO280\", 0.20)\n",
    "# SapModel.PropArea.SetSlabRibbed(\"Slab Ribbed\", 0.20, 0.005, 0.1, 0.1, 0.4, 1)               \n",
    "\n",
    "# SapModel.PropArea.SetSlab(\"Losa Macisa\", 0, 1, \"CONCRETO280\", 0.15)"
   ]
  },
  {
   "cell_type": "markdown",
   "metadata": {},
   "source": [
    "# Asignar Restricciones"
   ]
  },
  {
   "cell_type": "markdown",
   "metadata": {},
   "source": [
    "```python\n",
    "Restraint = [True,      # U1\n",
    "            True,       # U2\n",
    "            True,       # U3\n",
    "            True,       # R1\n",
    "            False,      # R2\n",
    "            False]      # R3\n",
    "\n",
    "SapModel.PointObj.SetRestraint(PointName,       # Nombre del nodo a restringir\n",
    "                               Restraint)       # Restricciones\n",
    "\n",
    "\n",
    "```"
   ]
  },
  {
   "cell_type": "markdown",
   "metadata": {},
   "source": [
    "```python\n",
    "# Metodo clasico para obtener las coordenadas del nodo inicial y final de una elemento Frame\n",
    "\n",
    "PointNamei = ' '\n",
    "PointNamej = ' '\n",
    "\n",
    "[PointNamei, PointNamej, ret] =  SapModel.FrameObj.GetPoints(FrameName,      # Nombre del elemento Frame\n",
    "                                                             PointNamei,     # Nombre del nodo inicial:  \" \"\n",
    "                                                             PointNamej)     # Nombre del nodo final:  \" \"\n",
    "\n",
    "\n",
    "```"
   ]
  },
  {
   "cell_type": "code",
   "execution_count": 9,
   "metadata": {},
   "outputs": [
    {
     "data": {
      "text/plain": [
       "[(True, True, False, False, False, False), 0]"
      ]
     },
     "execution_count": 9,
     "metadata": {},
     "output_type": "execute_result"
    }
   ],
   "source": [
    "# Asignar resitricciones al punto de la Base\n",
    "PointName1 = ' '\n",
    "PointName2 = ' '\n",
    "Restraint = [True, True, True, True, False, False]\n",
    "\n",
    "[PointName1, PointName2, _] = SapModel.FrameObj.GetPoints(FrameName1, PointName1, PointName2)\n",
    "SapModel.PointObj.SetRestraint(PointName1, Restraint)\n",
    "\n",
    "# Asignar restricciones al punto superior\n",
    "Restraint = [True, True, False, False, False, False]\n",
    "[PointName1, PointName2, _] = SapModel.FrameObj.GetPoints(FrameName2, PointName1, PointName2)\n",
    "SapModel.PointObj.SetRestraint(PointName2, Restraint)"
   ]
  },
  {
   "cell_type": "code",
   "execution_count": 12,
   "metadata": {},
   "outputs": [
    {
     "data": {
      "text/plain": [
       "[(True, True, True, True, True, True), 0]"
      ]
     },
     "execution_count": 12,
     "metadata": {},
     "output_type": "execute_result"
    }
   ],
   "source": [
    "Restraint = [True, True, True, True, True, True]\n",
    "SapModel.PointObj.SetRestraint(' ', Restraint, 2)"
   ]
  },
  {
   "cell_type": "markdown",
   "metadata": {},
   "source": [
    "# Crear LoadPattern"
   ]
  },
  {
   "cell_type": "markdown",
   "metadata": {},
   "source": [
    "Definicion de Load Patterns\n",
    "\n",
    "- Dead          = 1\n",
    "- SuperDead     = 2\n",
    "- Live          = 3\n",
    "- ReduceLive    = 4\n",
    "- Quake         = 5\n",
    "- Wind          = 6\n",
    "- Snow          = 7\n",
    "- Other         = 8"
   ]
  },
  {
   "cell_type": "code",
   "execution_count": 13,
   "metadata": {},
   "outputs": [
    {
     "data": {
      "text/plain": [
       "0"
      ]
     },
     "execution_count": 13,
     "metadata": {},
     "output_type": "execute_result"
    }
   ],
   "source": [
    "SapModel.LoadPatterns.Add('1',      # Name del Load Pattern\n",
    "                           1,       # Tipo de Load Pattern\n",
    "                           1,       # Opcional - Considerar peso propio - Factor  default = 0\n",
    "                           True)    # Opcional - True: Crear un nuevo caso de carga default = True"
   ]
  },
  {
   "cell_type": "code",
   "execution_count": 14,
   "metadata": {},
   "outputs": [
    {
     "data": {
      "text/plain": [
       "0"
      ]
     },
     "execution_count": 14,
     "metadata": {},
     "output_type": "execute_result"
    }
   ],
   "source": [
    "# Ejemplo - añadiendo LoadPatterns\n",
    "LTYPE_OTHER = 8\n",
    "SapModel.LoadPatterns.Add('2', LTYPE_OTHER)\n",
    "SapModel.LoadPatterns.Add('3', LTYPE_OTHER)\n",
    "SapModel.LoadPatterns.Add('4', LTYPE_OTHER)"
   ]
  },
  {
   "cell_type": "code",
   "execution_count": 15,
   "metadata": {},
   "outputs": [
    {
     "data": {
      "text/plain": [
       "0"
      ]
     },
     "execution_count": 15,
     "metadata": {},
     "output_type": "execute_result"
    }
   ],
   "source": [
    "## Ejemplos Extra\n",
    "SapModel.LoadPatterns.Add(\"Carga Muerta\",2)\n",
    "SapModel.LoadPatterns.Add(\"Carga Viva Piso\",4)  # Reducible Live\n",
    "SapModel.LoadPatterns.Add(\"Carga Viva Techo\",11) # Roof Live\n",
    "\n",
    "SapModel.LoadPatterns.ChangeName(\"DEAD\",\"Peso Propio\")\n",
    "SapModel.LoadCases.ChangeName(\"DEAD\",\"Peso Propio\")"
   ]
  },
  {
   "cell_type": "markdown",
   "metadata": {},
   "source": [
    "## Mass Source"
   ]
  },
  {
   "cell_type": "code",
   "execution_count": 16,
   "metadata": {},
   "outputs": [
    {
     "data": {
      "text/plain": [
       "[('Peso Propio', 'Carga Muerta', 'Carga Viva Piso', 'Carga Viva Techo'),\n",
       " (1.0, 1.0, 0.5, 0.25),\n",
       " 0]"
      ]
     },
     "execution_count": 16,
     "metadata": {},
     "output_type": "execute_result"
    }
   ],
   "source": [
    "LoadPat = [\"Peso Propio\", \n",
    "           \"Carga Muerta\",\n",
    "           \"Carga Viva Piso\", \n",
    "           \"Carga Viva Techo\"]\n",
    "SF = [1.0, \n",
    "      1.0, \n",
    "      0.5, \n",
    "      0.25]\n",
    "NumberLoads = len(LoadPat)\n",
    "SapModel.PropMaterial.SetMassSource(3 , NumberLoads, LoadPat, SF)       # Para Etabs, por defecto se llamará \"MsSrc1\"\n",
    "\n",
    "# SapModel.SourceMass.SetMassSource(\"MSSSRC1\", False, False, True, True, 4, LoadPat, SF)              # Para Sap2000\n",
    "# SapModel.SourceMass.ChangeName(\"MSSSRC1\",\"Peso Sísmico\")  # Cambiar el nombre del Mass Source       # Para Sap2000"
   ]
  },
  {
   "cell_type": "markdown",
   "metadata": {},
   "source": [
    "# Asignar Carga"
   ]
  },
  {
   "cell_type": "markdown",
   "metadata": {},
   "source": [
    "Para carga distribuida:\n",
    "1. Local 1 axis (only applies when CSys is Local)\n",
    "2. Local 2 axis (only applies when CSys is Local)\n",
    "3. Local 3 axis (only applies when CSys is Local)\n",
    "4. X direction (does not apply when CSys is Local)\n",
    "5. Y direction (does not apply when CSys is Local)\n",
    "6. Z direction (does not apply when CSys is Local)\n",
    "7. Projected X direction (does not apply when CSys is Local)\n",
    "8. Projected Y direction (does not apply when CSys is Local)\n",
    "9. Projected Z direction (does not apply when CSys is Local)\n",
    "10. Gravity direction (only applies when CSys is Global)\n",
    "11. Projected Gravity direction (only applies when CSys is Global)"
   ]
  },
  {
   "cell_type": "markdown",
   "metadata": {},
   "source": [
    "```python\n",
    "# carga puntual\n",
    "                 \n",
    "PointLoadValue = [0,    # Fx\n",
    "                  0,    # Fy\n",
    "                  -10,  # Fz\n",
    "                  0,    # Mx\n",
    "                  0,    # My\n",
    "                  0]    # Mz                 \n",
    "SapModel.PointObj.SetLoadForce(PointName1,          # Name of the point object\n",
    "                                 '2',               # Load Pattern\n",
    "                                 PointLoadValue)    # Values\n",
    "\n",
    "\n",
    "# carga distribuida\n",
    "SapModel.FrameObj.SetLoadDistributed(FrameName3,    # Nombre del Frame  \n",
    "                                    '2',            # Load Pattern\n",
    "                                    1,              # Tipo de carga distribuida  1 : F/L  2 : M/L\n",
    "                                    2,              # Direccion de la carga   1-6 : Local      7-11 Global\n",
    "                                    0,              # Distancia inicial de la carga  (relative por default)\n",
    "                                    1,              # Distancia final de la carga    (relative por default)\n",
    "                                    1.8,            # Valor inicial de la carga distribuida\n",
    "                                    1.8,            # Valor final de la carga distribuida\n",
    "                                    \"Local\")        # Sistema de coordenadas, por defecto viene Global\n",
    "                                \n",
    "    # existen más parametros a modificar pero estas son las principales\n",
    "```"
   ]
  },
  {
   "cell_type": "code",
   "execution_count": 17,
   "metadata": {},
   "outputs": [
    {
     "data": {
      "text/plain": [
       "[(0.0, 0.0, -10.0, 0.0, 0.0, 0.0), 0]"
      ]
     },
     "execution_count": 17,
     "metadata": {},
     "output_type": "execute_result"
    }
   ],
   "source": [
    "#assign loading for load pattern 2\n",
    "PointName1 = ' '\n",
    "PointName2 = ' '\n",
    "[PointName1, PointName2, ret] = SapModel.FrameObj.GetPoints(FrameName3, PointName1, PointName2)\n",
    "\n",
    "PointLoadValue = [0, 0,-10,0,0,0]\n",
    "SapModel.PointObj.SetLoadForce(PointName1, '2', PointLoadValue)"
   ]
  },
  {
   "cell_type": "code",
   "execution_count": 20,
   "metadata": {},
   "outputs": [
    {
     "data": {
      "text/plain": [
       "0"
      ]
     },
     "execution_count": 20,
     "metadata": {},
     "output_type": "execute_result"
    }
   ],
   "source": [
    "SapModel.FrameObj.SetLoadDistributed(FrameName2, '1', 1, 9, 0, 1, -0.3744, 0)"
   ]
  },
  {
   "cell_type": "code",
   "execution_count": 21,
   "metadata": {},
   "outputs": [
    {
     "data": {
      "text/plain": [
       "0"
      ]
     },
     "execution_count": 21,
     "metadata": {},
     "output_type": "execute_result"
    }
   ],
   "source": [
    "SapModel.FrameObj.SetLoadDistributed(FrameName3, '4', 1, 2, 0, 1, 1.8, 1.8, 'Local')\n",
    "SapModel.FrameObj.SetLoadDistributed(FrameName2, '3', 1, 2, 0, 1, -0.3744, 0, 'Local')"
   ]
  },
  {
   "cell_type": "markdown",
   "metadata": {},
   "source": [
    "```python\n",
    "SapModel.FrameObj.SetLoadDistributed(FrameNamei,   # Nombre del Frame    \n",
    "                                    '2',           # Load Pattern\n",
    "                                    1,             # Tipo de carga distribuida  1 : F/L  2 : M/L\n",
    "                                    10,            # Direccion de la carga   1-6 : Local      7-11 Global\n",
    "                                    0,             # Distancia inicial de la carga  (relative por default)\n",
    "                                    1,             # Distancia final de la carga    (relative por default)\n",
    "                                    1.8,           # Valor inicial de la carga distribuida\n",
    "                                    1.8,           # Valor final de la carga distribuida\n",
    "                                    CSys,          # (Opcional) Default: Global       - Local   \n",
    "                                    RelDist,       # (Opcional)   True: Si la distancia es relativa     False: Si la distancia es absoluta \n",
    "                                    Replace,       # (Opcional)   True: Para reemplazar las cargas que se asignan   \n",
    "                                    ItemType)      # (Opcional)  2: Objeto seleccionado    \n",
    "\n",
    "```\n"
   ]
  },
  {
   "cell_type": "code",
   "execution_count": 23,
   "metadata": {},
   "outputs": [
    {
     "data": {
      "text/plain": [
       "0"
      ]
     },
     "execution_count": 23,
     "metadata": {},
     "output_type": "execute_result"
    }
   ],
   "source": [
    "SapModel.FrameObj.SetLoadDistributed(\" \", 'Carga Muerta', 1, 2, 0, 1, -10, -15, 'Local',True, True, 2)"
   ]
  },
  {
   "cell_type": "markdown",
   "metadata": {},
   "source": [
    "# refinaciones"
   ]
  },
  {
   "cell_type": "markdown",
   "metadata": {},
   "source": [
    "Asignar Brazo rigido       \n",
    "\n",
    "```python\n",
    "'assign offsets\n",
    "SapModel.FrameObj.SetEndLengthOffset(FrameName,   # Nombre de un elemento Frame\n",
    "                                    False,        # True: offset automatico  False: Para no asignar un offset al nodo inicial\n",
    "                                    12, 12,       # Longitud 1 y 2\n",
    "                                    0.5           # Factor de rigidez\n",
    "                                    2)            # (Opcional)  2: Objeto seleccionado \n",
    "```"
   ]
  },
  {
   "cell_type": "markdown",
   "metadata": {},
   "source": [
    "Asignar Releases \n",
    "```python\n",
    "\n",
    "ii = [True,     # U1\n",
    "      True,     # U2\n",
    "      True,     # U3\n",
    "      True,     # R1\n",
    "      True,     # R2\n",
    "      True]     # R3\n",
    "jj = [True, True, True, True, True, True]    # Aplicacion de releases\n",
    "\n",
    "StartValue = [0, # U1 partial fixity [F/L]\n",
    "              0, # U2 partial fixity [F/L]\n",
    "              0, # U3 partial fixity [F/L]\n",
    "              0, # R1 partial fixity [M/L]\n",
    "              0, # R2 partial fixity [M/L]\n",
    "              0] # R3 partial fixity [M/L]    \n",
    "EndValue = [0, 0, 0, 0, 0, 0]  # indican los resortes de fijación parcial del extremo del frame\n",
    "\n",
    "ret =SapModel.FrameObj.SetReleases(FrameName,    # Nombre de un elemento Frame\n",
    "                                    ii,          # Lista de booleanos para el nodo inicial\n",
    "                                    jj,          # Lista de booleanos para el nodo final\n",
    "                                    StartValue,  # Lista de valores de fijación parcial del nodo inicial\n",
    "                                    EndValue,    # Lista de valores de fijación parcial del nodo final\n",
    "                                    2)           # (Opcional)  2: Objeto seleccionado  \n",
    "```\n",
    "---"
   ]
  },
  {
   "cell_type": "markdown",
   "metadata": {},
   "source": [
    "Asignar propiedad de una seccion a un frame seleccionado       \n",
    "```python\n",
    "'Crear una nueva propiedad de sección\n",
    " ret = SapModel.PropFrame.SetRectangle(\"R5\", \n",
    "                                      \"4000Psi\", \n",
    "                                      20, 12)\n",
    "'Asignar la propiedad de sección a un frame seleccionado\n",
    " ret = SapModel.FrameObj.SetSection(FrameName, \n",
    "                                    \"R5\",            # Nombre de la sección a asginar\n",
    "                                    2)               # (Opcional)  2: Objeto seleccionado  \n",
    "```\n",
    "---"
   ]
  }
 ],
 "metadata": {
  "kernelspec": {
   "display_name": "Python 3",
   "language": "python",
   "name": "python3"
  },
  "language_info": {
   "codemirror_mode": {
    "name": "ipython",
    "version": 3
   },
   "file_extension": ".py",
   "mimetype": "text/x-python",
   "name": "python",
   "nbconvert_exporter": "python",
   "pygments_lexer": "ipython3",
   "version": "3.9.13"
  },
  "orig_nbformat": 4
 },
 "nbformat": 4,
 "nbformat_minor": 2
}
