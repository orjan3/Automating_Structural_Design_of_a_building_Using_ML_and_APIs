{
 "cells": [
  {
   "cell_type": "code",
   "execution_count": null,
   "metadata": {},
   "outputs": [],
   "source": [
    "import pandas as pd, tensorflow as tf, matplotlib.pyplot as plt, numpy as np, os\n",
    "from   sklearn.model_selection import train_test_split\n",
    "from   sklearn.metrics import mean_squared_error\n",
    "from   tensorflow import keras\n",
    "from   math import sqrt\n",
    "from keras.models import load_model"
   ]
  },
  {
   "cell_type": "code",
   "execution_count": null,
   "metadata": {},
   "outputs": [],
   "source": [
    "#Big Data Import\n",
    "db=pd.read_excel('db.xlsx')\n",
    "\n",
    "#Data Extraction\n",
    "y1 = db [\"As_opt\"]\n",
    "y2 = db [\"d_opt\"]\n",
    "y3 = db [\"As_opt_p\"]\n",
    "x  = db [[\"fc\",\"fy\",\"Mu\",\"b\"]]\n",
    "\n",
    "#Split Training Testing Data\n",
    "xtrain,xtest,ytrain1,ytest1,ytrain2,ytest2,ytrain3,ytest3 = train_test_split(x,y1,y2,y3,test_size=0.2,random_state=1) \n",
    "\n",
    "#RMSE def\n",
    "def rmse(ytrue,ypred):\n",
    "  return tf.sqrt(tf.reduce_mean(tf.square(ytrue - ypred)))"
   ]
  },
  {
   "cell_type": "code",
   "execution_count": null,
   "metadata": {},
   "outputs": [],
   "source": [
    "aprendizajes = 10\n",
    "#ANN Asopt model def\n",
    "mdl_Asopt=tf.keras.Sequential([\n",
    "    tf.keras.layers.Dense(40,activation=\"relu\",input_shape=(xtrain.shape[1],)),\n",
    "    tf.keras.layers.Dense(40,activation=\"relu\"),\n",
    "    tf.keras.layers.Dense(40,activation=\"relu\"),\n",
    "    tf.keras.layers.Dense(40,activation=\"relu\"),\n",
    "    tf.keras.layers.Dense(1)])\n",
    "\n",
    "#Model Config\n",
    "mdl_Asopt.compile(optimizer='adam',loss=rmse)\n",
    "\n",
    "#ANN dopt model def\n",
    "mdl_dopt = tf.keras.Sequential([\n",
    "    tf.keras.layers.Dense(40,activation=\"relu\",input_shape=(xtrain.shape[1],)),\n",
    "    tf.keras.layers.Dense(40,activation=\"relu\"),\n",
    "    tf.keras.layers.Dense(40,activation=\"relu\"),\n",
    "    tf.keras.layers.Dense(40,activation=\"relu\"),\n",
    "    tf.keras.layers.Dense(1)])\n",
    "\n",
    "#Model Config\n",
    "mdl_dopt.compile(optimizer='adam',loss = rmse)\n",
    "\n",
    "#ANN dopt model def\n",
    "mdl_Asopt_p = tf.keras.Sequential([\n",
    "    tf.keras.layers.Dense(40,activation=\"relu\",input_shape=(xtrain.shape[1],)),\n",
    "    tf.keras.layers.Dense(40,activation=\"relu\"),\n",
    "    tf.keras.layers.Dense(40,activation=\"relu\"),\n",
    "    tf.keras.layers.Dense(40,activation=\"relu\"),\n",
    "    tf.keras.layers.Dense(1)])\n",
    "\n",
    "#Model Config\n",
    "mdl_Asopt_p.compile(optimizer='adam',loss = rmse)"
   ]
  },
  {
   "cell_type": "code",
   "execution_count": null,
   "metadata": {},
   "outputs": [],
   "source": [
    "# Load parameters only\n",
    "mdl_Asopt.load_weights(r'D:\\ToolBox\\py\\proyect_1\\RedesNeuronales\\prm_Asopt.keras.weights.h5')\n",
    "mdl_dopt.load_weights(r'D:\\ToolBox\\py\\proyect_1\\RedesNeuronales\\prm_dopt.keras.weights.h5')\n",
    "mdl_Asopt_p.load_weights(r'D:\\ToolBox\\py\\proyect_1\\RedesNeuronales\\prm_Asopt_p.keras.weights.h5')"
   ]
  }
 ],
 "metadata": {
  "language_info": {
   "name": "python"
  }
 },
 "nbformat": 4,
 "nbformat_minor": 2
}
