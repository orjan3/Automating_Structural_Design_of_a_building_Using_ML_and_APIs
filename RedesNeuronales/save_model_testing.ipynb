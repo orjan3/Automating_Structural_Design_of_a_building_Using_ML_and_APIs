{
 "cells": [
  {
   "cell_type": "code",
   "execution_count": 3,
   "metadata": {},
   "outputs": [],
   "source": [
    "from tensorflow.keras.models import load_model\n",
    "\n",
    "def rmse(ytrue,ypred):\n",
    "  return tf.sqrt(tf.reduce_mean(tf.square(ytrue - ypred)))\n",
    "# Cargar el modelo guardado\n",
    "mdl = load_model(r'D:\\ToolBox\\py\\proyect_1\\RedesNeuronales\\mdl_checkpoint.keras', custom_objects={'rmse': rmse})"
   ]
  },
  {
   "cell_type": "code",
   "execution_count": 2,
   "metadata": {},
   "outputs": [
    {
     "name": "stdout",
     "output_type": "stream",
     "text": [
      "\u001b[1m1/1\u001b[0m \u001b[32m━━━━━━━━━━━━━━━━━━━━\u001b[0m\u001b[37m\u001b[0m \u001b[1m0s\u001b[0m 373ms/step\n",
      "El Área de Acero (As) es [77.18751] cm^2, el peralte efectivo (d) es [36.095] cm y el Área de Acero compresión (Asp) es [18.889738]\n"
     ]
    }
   ],
   "source": [
    "import pandas as pd\n",
    "#Datos de ETABS\n",
    "fc = [50]\n",
    "fy = [550]\n",
    "Mu = [700]\n",
    "b =  [1000]\n",
    "\n",
    "#Almacenamiento de datos del ETABS\n",
    "data_Etabs        = pd.DataFrame()\n",
    "data_Etabs ['fc'] = fc\n",
    "data_Etabs ['fy'] = fy\n",
    "data_Etabs ['Mu'] = Mu\n",
    "data_Etabs ['b']  = b\n",
    "\n",
    "#Evaluación en el Modelo entrenado por ANN\n",
    "predictions = mdl.predict(data_Etabs)\n",
    "y_As = predictions[0][0]  # Área de Acero (As)\n",
    "y_d = predictions[1][0]   # Peralte efectivo (d)\n",
    "y_Asp = predictions[2][0]  # Área de Acero compresión (Asp)\n",
    "\n",
    "imprimir = f\"El Área de Acero (As) es {y_As} cm^2, el peralte efectivo (d) es {y_d} cm y el Área de Acero compresión (Asp) es {y_Asp}\"\n",
    "print(imprimir)"
   ]
  }
 ],
 "metadata": {
  "kernelspec": {
   "display_name": "Python 3",
   "language": "python",
   "name": "python3"
  },
  "language_info": {
   "codemirror_mode": {
    "name": "ipython",
    "version": 3
   },
   "file_extension": ".py",
   "mimetype": "text/x-python",
   "name": "python",
   "nbconvert_exporter": "python",
   "pygments_lexer": "ipython3",
   "version": "3.12.3"
  }
 },
 "nbformat": 4,
 "nbformat_minor": 2
}
