{
 "cells": [
  {
   "cell_type": "code",
   "execution_count": 14,
   "metadata": {},
   "outputs": [],
   "source": [
    "import pandas as pd, tensorflow as tf, matplotlib.pyplot as plt, numpy as np, os\n",
    "from   sklearn.model_selection import train_test_split\n",
    "from   sklearn.metrics import mean_squared_error\n",
    "from   tensorflow import keras\n",
    "from   math import sqrt\n",
    "from keras.models import load_model\n",
    "from tensorflow.keras.callbacks import ModelCheckpoint"
   ]
  },
  {
   "cell_type": "code",
   "execution_count": 9,
   "metadata": {},
   "outputs": [],
   "source": [
    "#Data Base Import\n",
    "db=pd.read_excel('db.xlsx')\n",
    "\n",
    "#Data Extraction\n",
    "y1 = db [\"As_opt\"]\n",
    "y2 = db [\"d_opt\"]\n",
    "y3 = db [\"As_opt_p\"]\n",
    "x  = db [[\"fc\",\"fy\",\"Mu\",\"b\"]]\n",
    "\n",
    "#RMSE def\n",
    "def rmse(ytrue,ypred):\n",
    "  return tf.sqrt(tf.reduce_mean(tf.square(ytrue - ypred)))"
   ]
  },
  {
   "cell_type": "code",
   "execution_count": 10,
   "metadata": {},
   "outputs": [],
   "source": [
    "#Split: DataBase into: Training and Testing Data\n",
    "xtrain,xtest,ytrain1,ytest1,ytrain2,ytest2,ytrain3,ytest3 = train_test_split(x,y1,y2,y3,test_size=0.2,random_state=1) "
   ]
  },
  {
   "cell_type": "code",
   "execution_count": 19,
   "metadata": {},
   "outputs": [],
   "source": [
    "# Auto-Saving Model Training: Callback ModelCheckpoint\n",
    "checkpoint = ModelCheckpoint(r'D:\\ToolBox\\py\\proyect_1\\RedesNeuronales\\mdl_checkpoint.keras', monitor='val_loss', save_best_only=True)"
   ]
  },
  {
   "cell_type": "code",
   "execution_count": 24,
   "metadata": {},
   "outputs": [
    {
     "name": "stderr",
     "output_type": "stream",
     "text": [
      "c:\\Users\\JORGE\\AppData\\Local\\Programs\\Python\\Python312\\Lib\\site-packages\\keras\\src\\layers\\core\\dense.py:87: UserWarning: Do not pass an `input_shape`/`input_dim` argument to a layer. When using Sequential models, prefer using an `Input(shape)` object as the first layer in the model instead.\n",
      "  super().__init__(activity_regularizer=activity_regularizer, **kwargs)\n"
     ]
    }
   ],
   "source": [
    "epochs = 1\n",
    "# Define el modelo ANN con tres salidas\n",
    "mdl = tf.keras.Sequential([\n",
    "    tf.keras.layers.Dense(40, activation=\"relu\", input_shape=(xtrain.shape[1],)),\n",
    "    tf.keras.layers.Dense(40, activation=\"relu\"),\n",
    "    tf.keras.layers.Dense(40, activation=\"relu\"),\n",
    "    tf.keras.layers.Dense(40, activation=\"relu\"),\n",
    "    # Capas de salida para cada una de las tres salidas\n",
    "    tf.keras.layers.Dense(1, name=\"As_opt\"),  # Primera salida\n",
    "    tf.keras.layers.Dense(1, name=\"d_opt\"),  # Segunda salida\n",
    "    tf.keras.layers.Dense(1, name=\"As_opt_p\")   # Tercera salida\n",
    "])"
   ]
  },
  {
   "cell_type": "code",
   "execution_count": null,
   "metadata": {},
   "outputs": [],
   "source": [
    "# Stats: Model \n",
    "mdl.summary()\n",
    "print(mdl.weights)"
   ]
  },
  {
   "cell_type": "code",
   "execution_count": 25,
   "metadata": {},
   "outputs": [],
   "source": [
    "# Model Conpiling\n",
    "mdl.compile(optimizer='adam', loss=rmse ,metrics=['accuracy'])"
   ]
  },
  {
   "cell_type": "code",
   "execution_count": 28,
   "metadata": {},
   "outputs": [
    {
     "name": "stdout",
     "output_type": "stream",
     "text": [
      "\u001b[1m2494/2494\u001b[0m \u001b[32m━━━━━━━━━━━━━━━━━━━━\u001b[0m\u001b[37m\u001b[0m \u001b[1m5s\u001b[0m 2ms/step - accuracy: 0.0000e+00 - loss: 0.3865 - val_accuracy: 0.0000e+00 - val_loss: 0.2665\n"
     ]
    }
   ],
   "source": [
    "# Model Parameters Training \n",
    "mdl_fit = mdl.fit(xtrain, {\"As_opt\": ytrain1, \"d_opt\": ytrain2, \"As_opt_p\": ytrain3},\n",
    "    epochs=epochs,\n",
    "    verbose=True, \n",
    "    validation_split=0.05,\n",
    "    callbacks=[checkpoint])"
   ]
  },
  {
   "cell_type": "code",
   "execution_count": 29,
   "metadata": {},
   "outputs": [
    {
     "name": "stdout",
     "output_type": "stream",
     "text": [
      "{'accuracy': [0.0], 'loss': [0.3762800395488739], 'val_accuracy': [0.0], 'val_loss': [0.2665410041809082]}\n"
     ]
    }
   ],
   "source": [
    "# Stats: Model Parameters Training \n",
    "print(mdl_fit.history)"
   ]
  },
  {
   "cell_type": "code",
   "execution_count": null,
   "metadata": {},
   "outputs": [],
   "source": [
    "# COMPARING PREDICTED VALUES VS THEORETICAL VALUES\n",
    "predictions = mdl.predict(xtrain)\n",
    "\n",
    "# Las predicciones serán una lista de arrays, uno por cada salida\n",
    "ypred1 = predictions[0]  # Predicciones para As_opt\n",
    "ypred2 = predictions[1]  # Predicciones para d_opt\n",
    "ypred3 = predictions[2]  # Predicciones para As_opt_p\n",
    "\n",
    "RMSE=sqrt(mean_squared_error(ytrain1,ypred1))\n",
    "RMSE=sqrt(mean_squared_error(ytrain2,ypred2))\n",
    "RMSE=sqrt(mean_squared_error(ytrain3,ypred3))\n",
    "\n",
    "# Coefficients\n",
    "m1, b1 = np.polyfit(ytrain1, ypred1, 1)\n",
    "m2, b2 = np.polyfit(ytrain2, ypred2, 1)\n",
    "m3, b3 = np.polyfit(ytrain3, ypred3, 1)\n",
    "\n",
    "#Plotting scatter points and 1st-degree polynom\n",
    "# Information Plot\n",
    "plt.scatter(ypred1,ytrain1,facecolors = 'none',edgecolors='b')\n",
    "plt.plot(ytrain1, m1*ytrain1 + b1, color='red')\n",
    "plt.text(0.45, 0.2, f'$y = {m1} \\cdot x + {b1}$', fontsize=10, transform=plt.gca().transAxes)\n",
    "plt.text(0.45, 0.15, f'RMSE={RMSE}', fontsize=10, transform=plt.gca().transAxes)\n",
    "plt.xlabel('ANN predicted reinforcement area As (cm^2)')\n",
    "plt.ylabel('Calculated reinforcement area As (cm^2)')\n",
    "plt.title('Model 3 layers & 20 neurons // Data Training (Epoch = 150)')\n",
    "\n",
    "plt.scatter(ypred2,ytrain2,facecolors = 'none',edgecolors='b')\n",
    "plt.plot(ytrain2, m2*ytrain2 + b2, color='red')\n",
    "plt.text(0.45, 0.2, f'$y = {m2} \\cdot x + {b2}$', fontsize=10, transform=plt.gca().transAxes)\n",
    "plt.text(0.45, 0.15, f'RMSE={RMSE}', fontsize=10, transform=plt.gca().transAxes)\n",
    "plt.xlabel('ANN predicted depth d (cm)')\n",
    "plt.ylabel('Calculated depth d (cm)')\n",
    "plt.title('Model 3 layers & 20 neurons // Data Training (Epoch = 150)')\t\n",
    "\n",
    "plt.scatter(ypred1,ytrain1,facecolors = 'none',edgecolors='b')\n",
    "plt.plot(ytrain3, m3*ytrain3 + b3, color='red')\n",
    "plt.text(0.45, 0.2, f'$y = {m3} \\cdot x + {b3}$', fontsize=10, transform=plt.gca().transAxes)\n",
    "plt.text(0.45, 0.15, f'RMSE={RMSE}', fontsize=10, transform=plt.gca().transAxes)\n",
    "plt.xlabel('ANN predicted reinforcement area As (cm^2)')\n",
    "plt.ylabel('Calculated reinforcement area As (cm^2)')\n",
    "plt.title('Model 3 layers & 20 neurons // Data Training (Epoch = 150)')"
   ]
  }
 ],
 "metadata": {
  "kernelspec": {
   "display_name": "Python 3",
   "language": "python",
   "name": "python3"
  },
  "language_info": {
   "codemirror_mode": {
    "name": "ipython",
    "version": 3
   },
   "file_extension": ".py",
   "mimetype": "text/x-python",
   "name": "python",
   "nbconvert_exporter": "python",
   "pygments_lexer": "ipython3",
   "version": "3.12.3"
  }
 },
 "nbformat": 4,
 "nbformat_minor": 2
}
