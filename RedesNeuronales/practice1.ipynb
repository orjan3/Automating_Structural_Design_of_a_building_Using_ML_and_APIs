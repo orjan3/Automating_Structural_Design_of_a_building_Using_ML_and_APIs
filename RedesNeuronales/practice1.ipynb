{
 "cells": [
  {
   "cell_type": "code",
   "execution_count": 14,
   "metadata": {},
   "outputs": [],
   "source": [
    "import pandas as pd, tensorflow as tf, matplotlib.pyplot as plt, numpy as np, os\n",
    "from   sklearn.model_selection import train_test_split\n",
    "from   sklearn.metrics import mean_squared_error\n",
    "from   tensorflow import keras\n",
    "from   math import sqrt\n",
    "from keras.models import load_model\n",
    "from tensorflow.keras.callbacks import ModelCheckpoint"
   ]
  },
  {
   "cell_type": "code",
   "execution_count": 9,
   "metadata": {},
   "outputs": [],
   "source": [
    "#Data Base Import\n",
    "db=pd.read_excel('db.xlsx')\n",
    "\n",
    "#Data Extraction\n",
    "y1 = db [\"As_opt\"]\n",
    "y2 = db [\"d_opt\"]\n",
    "y3 = db [\"As_opt_p\"]\n",
    "x  = db [[\"fc\",\"fy\",\"Mu\",\"b\"]]\n",
    "\n",
    "#RMSE def\n",
    "def rmse(ytrue,ypred):\n",
    "  return tf.sqrt(tf.reduce_mean(tf.square(ytrue - ypred)))"
   ]
  },
  {
   "cell_type": "code",
   "execution_count": 10,
   "metadata": {},
   "outputs": [],
   "source": [
    "#Split: DataBase into: Training and Testing Data\n",
    "xtrain,xtest,ytrain1,ytest1,ytrain2,ytest2,ytrain3,ytest3 = train_test_split(x,y1,y2,y3,test_size=0.2,random_state=1) "
   ]
  },
  {
   "cell_type": "code",
   "execution_count": 19,
   "metadata": {},
   "outputs": [],
   "source": [
    "# Auto-Saving Model Training: Callback ModelCheckpoint\n",
    "checkpoint = ModelCheckpoint(r'D:\\ToolBox\\py\\proyect_1\\RedesNeuronales\\mdl_checkpoint.keras', monitor='val_loss', save_best_only=True)"
   ]
  },
  {
   "cell_type": "code",
   "execution_count": 24,
   "metadata": {},
   "outputs": [
    {
     "name": "stderr",
     "output_type": "stream",
     "text": [
      "c:\\Users\\JORGE\\AppData\\Local\\Programs\\Python\\Python312\\Lib\\site-packages\\keras\\src\\layers\\core\\dense.py:87: UserWarning: Do not pass an `input_shape`/`input_dim` argument to a layer. When using Sequential models, prefer using an `Input(shape)` object as the first layer in the model instead.\n",
      "  super().__init__(activity_regularizer=activity_regularizer, **kwargs)\n"
     ]
    }
   ],
   "source": [
    "epochs = 1\n",
    "# Define el modelo ANN con tres salidas\n",
    "mdl = tf.keras.Sequential([\n",
    "    tf.keras.layers.Dense(40, activation=\"relu\", input_shape=(xtrain.shape[1],)),\n",
    "    tf.keras.layers.Dense(40, activation=\"relu\"),\n",
    "    tf.keras.layers.Dense(40, activation=\"relu\"),\n",
    "    tf.keras.layers.Dense(40, activation=\"relu\"),\n",
    "    # Capas de salida para cada una de las tres salidas\n",
    "    tf.keras.layers.Dense(1, name=\"As_opt\"),  # Primera salida\n",
    "    tf.keras.layers.Dense(1, name=\"d_opt\"),  # Segunda salida\n",
    "    tf.keras.layers.Dense(1, name=\"As_opt_p\")   # Tercera salida\n",
    "])"
   ]
  },
  {
   "cell_type": "code",
   "execution_count": null,
   "metadata": {},
   "outputs": [],
   "source": [
    "# Stats: Model \n",
    "mdl.summary()\n",
    "print(mdl.weights)"
   ]
  },
  {
   "cell_type": "code",
   "execution_count": 25,
   "metadata": {},
   "outputs": [],
   "source": [
    "# Model Conpiling\n",
    "mdl.compile(optimizer='adam', loss=rmse ,metrics=['accuracy'])"
   ]
  },
  {
   "cell_type": "code",
   "execution_count": 28,
   "metadata": {},
   "outputs": [
    {
     "name": "stdout",
     "output_type": "stream",
     "text": [
      "\u001b[1m2494/2494\u001b[0m \u001b[32m━━━━━━━━━━━━━━━━━━━━\u001b[0m\u001b[37m\u001b[0m \u001b[1m5s\u001b[0m 2ms/step - accuracy: 0.0000e+00 - loss: 0.3865 - val_accuracy: 0.0000e+00 - val_loss: 0.2665\n"
     ]
    }
   ],
   "source": [
    "# Model Parameters Training \n",
    "mdl_fit = mdl.fit(xtrain, {\"As_opt\": ytrain1, \"d_opt\": ytrain2, \"As_opt_p\": ytrain3},\n",
    "    epochs=epochs,\n",
    "    verbose=True, \n",
    "    validation_split=0.05,\n",
    "    callbacks=[checkpoint])"
   ]
  },
  {
   "cell_type": "code",
   "execution_count": 29,
   "metadata": {},
   "outputs": [
    {
     "name": "stdout",
     "output_type": "stream",
     "text": [
      "{'accuracy': [0.0], 'loss': [0.3762800395488739], 'val_accuracy': [0.0], 'val_loss': [0.2665410041809082]}\n"
     ]
    }
   ],
   "source": [
    "# Stats: Model Parameters Training \n",
    "print(mdl_fit.history)"
   ]
  },
  {
   "cell_type": "code",
   "execution_count": 30,
   "metadata": {},
   "outputs": [
    {
     "name": "stdout",
     "output_type": "stream",
     "text": [
      "\u001b[1m   1/2625\u001b[0m \u001b[37m━━━━━━━━━━━━━━━━━━━━\u001b[0m \u001b[1m4:28\u001b[0m 102ms/step"
     ]
    },
    {
     "name": "stderr",
     "output_type": "stream",
     "text": [
      "<>:22: SyntaxWarning: invalid escape sequence '\\c'\n",
      "<>:30: SyntaxWarning: invalid escape sequence '\\c'\n",
      "<>:38: SyntaxWarning: invalid escape sequence '\\c'\n",
      "<>:22: SyntaxWarning: invalid escape sequence '\\c'\n",
      "<>:30: SyntaxWarning: invalid escape sequence '\\c'\n",
      "<>:38: SyntaxWarning: invalid escape sequence '\\c'\n",
      "C:\\Users\\JORGE\\AppData\\Local\\Temp\\ipykernel_26268\\3001612912.py:22: SyntaxWarning: invalid escape sequence '\\c'\n",
      "  plt.text(0.45, 0.2, f'$y = {m1} \\cdot x + {b1}$', fontsize=10, transform=plt.gca().transAxes)\n",
      "C:\\Users\\JORGE\\AppData\\Local\\Temp\\ipykernel_26268\\3001612912.py:30: SyntaxWarning: invalid escape sequence '\\c'\n",
      "  plt.text(0.45, 0.2, f'$y = {m2} \\cdot x + {b2}$', fontsize=10, transform=plt.gca().transAxes)\n",
      "C:\\Users\\JORGE\\AppData\\Local\\Temp\\ipykernel_26268\\3001612912.py:38: SyntaxWarning: invalid escape sequence '\\c'\n",
      "  plt.text(0.45, 0.2, f'$y = {m3} \\cdot x + {b3}$', fontsize=10, transform=plt.gca().transAxes)\n"
     ]
    },
    {
     "name": "stdout",
     "output_type": "stream",
     "text": [
      "\u001b[1m2625/2625\u001b[0m \u001b[32m━━━━━━━━━━━━━━━━━━━━\u001b[0m\u001b[37m\u001b[0m \u001b[1m3s\u001b[0m 1ms/step\n"
     ]
    },
    {
     "name": "stderr",
     "output_type": "stream",
     "text": [
      "C:\\Users\\JORGE\\AppData\\Local\\Temp\\ipykernel_26268\\3001612912.py:22: SyntaxWarning: invalid escape sequence '\\c'\n",
      "  plt.text(0.45, 0.2, f'$y = {m1} \\cdot x + {b1}$', fontsize=10, transform=plt.gca().transAxes)\n",
      "C:\\Users\\JORGE\\AppData\\Local\\Temp\\ipykernel_26268\\3001612912.py:30: SyntaxWarning: invalid escape sequence '\\c'\n",
      "  plt.text(0.45, 0.2, f'$y = {m2} \\cdot x + {b2}$', fontsize=10, transform=plt.gca().transAxes)\n",
      "C:\\Users\\JORGE\\AppData\\Local\\Temp\\ipykernel_26268\\3001612912.py:38: SyntaxWarning: invalid escape sequence '\\c'\n",
      "  plt.text(0.45, 0.2, f'$y = {m3} \\cdot x + {b3}$', fontsize=10, transform=plt.gca().transAxes)\n"
     ]
    },
    {
     "ename": "ValueError",
     "evalue": "Found input variables with inconsistent numbers of samples: [83980, 1]",
     "output_type": "error",
     "traceback": [
      "\u001b[1;31m---------------------------------------------------------------------------\u001b[0m",
      "\u001b[1;31mValueError\u001b[0m                                Traceback (most recent call last)",
      "Cell \u001b[1;32mIn[30], line 9\u001b[0m\n\u001b[0;32m      6\u001b[0m ypred2 \u001b[38;5;241m=\u001b[39m predictions[\u001b[38;5;241m1\u001b[39m]  \u001b[38;5;66;03m# Predicciones para d_opt\u001b[39;00m\n\u001b[0;32m      7\u001b[0m ypred3 \u001b[38;5;241m=\u001b[39m predictions[\u001b[38;5;241m2\u001b[39m]  \u001b[38;5;66;03m# Predicciones para As_opt_p\u001b[39;00m\n\u001b[1;32m----> 9\u001b[0m RMSE\u001b[38;5;241m=\u001b[39msqrt(\u001b[43mmean_squared_error\u001b[49m\u001b[43m(\u001b[49m\u001b[43mytrain1\u001b[49m\u001b[43m,\u001b[49m\u001b[43mypred1\u001b[49m\u001b[43m)\u001b[49m)\n\u001b[0;32m     10\u001b[0m RMSE\u001b[38;5;241m=\u001b[39msqrt(mean_squared_error(ytrain2,ypred2))\n\u001b[0;32m     11\u001b[0m RMSE\u001b[38;5;241m=\u001b[39msqrt(mean_squared_error(ytrain3,ypred3))\n",
      "File \u001b[1;32mc:\\Users\\JORGE\\AppData\\Local\\Programs\\Python\\Python312\\Lib\\site-packages\\sklearn\\utils\\_param_validation.py:213\u001b[0m, in \u001b[0;36mvalidate_params.<locals>.decorator.<locals>.wrapper\u001b[1;34m(*args, **kwargs)\u001b[0m\n\u001b[0;32m    207\u001b[0m \u001b[38;5;28;01mtry\u001b[39;00m:\n\u001b[0;32m    208\u001b[0m     \u001b[38;5;28;01mwith\u001b[39;00m config_context(\n\u001b[0;32m    209\u001b[0m         skip_parameter_validation\u001b[38;5;241m=\u001b[39m(\n\u001b[0;32m    210\u001b[0m             prefer_skip_nested_validation \u001b[38;5;129;01mor\u001b[39;00m global_skip_validation\n\u001b[0;32m    211\u001b[0m         )\n\u001b[0;32m    212\u001b[0m     ):\n\u001b[1;32m--> 213\u001b[0m         \u001b[38;5;28;01mreturn\u001b[39;00m \u001b[43mfunc\u001b[49m\u001b[43m(\u001b[49m\u001b[38;5;241;43m*\u001b[39;49m\u001b[43margs\u001b[49m\u001b[43m,\u001b[49m\u001b[43m \u001b[49m\u001b[38;5;241;43m*\u001b[39;49m\u001b[38;5;241;43m*\u001b[39;49m\u001b[43mkwargs\u001b[49m\u001b[43m)\u001b[49m\n\u001b[0;32m    214\u001b[0m \u001b[38;5;28;01mexcept\u001b[39;00m InvalidParameterError \u001b[38;5;28;01mas\u001b[39;00m e:\n\u001b[0;32m    215\u001b[0m     \u001b[38;5;66;03m# When the function is just a wrapper around an estimator, we allow\u001b[39;00m\n\u001b[0;32m    216\u001b[0m     \u001b[38;5;66;03m# the function to delegate validation to the estimator, but we replace\u001b[39;00m\n\u001b[0;32m    217\u001b[0m     \u001b[38;5;66;03m# the name of the estimator by the name of the function in the error\u001b[39;00m\n\u001b[0;32m    218\u001b[0m     \u001b[38;5;66;03m# message to avoid confusion.\u001b[39;00m\n\u001b[0;32m    219\u001b[0m     msg \u001b[38;5;241m=\u001b[39m re\u001b[38;5;241m.\u001b[39msub(\n\u001b[0;32m    220\u001b[0m         \u001b[38;5;124mr\u001b[39m\u001b[38;5;124m\"\u001b[39m\u001b[38;5;124mparameter of \u001b[39m\u001b[38;5;124m\\\u001b[39m\u001b[38;5;124mw+ must be\u001b[39m\u001b[38;5;124m\"\u001b[39m,\n\u001b[0;32m    221\u001b[0m         \u001b[38;5;124mf\u001b[39m\u001b[38;5;124m\"\u001b[39m\u001b[38;5;124mparameter of \u001b[39m\u001b[38;5;132;01m{\u001b[39;00mfunc\u001b[38;5;241m.\u001b[39m\u001b[38;5;18m__qualname__\u001b[39m\u001b[38;5;132;01m}\u001b[39;00m\u001b[38;5;124m must be\u001b[39m\u001b[38;5;124m\"\u001b[39m,\n\u001b[0;32m    222\u001b[0m         \u001b[38;5;28mstr\u001b[39m(e),\n\u001b[0;32m    223\u001b[0m     )\n",
      "File \u001b[1;32mc:\\Users\\JORGE\\AppData\\Local\\Programs\\Python\\Python312\\Lib\\site-packages\\sklearn\\metrics\\_regression.py:506\u001b[0m, in \u001b[0;36mmean_squared_error\u001b[1;34m(y_true, y_pred, sample_weight, multioutput, squared)\u001b[0m\n\u001b[0;32m    501\u001b[0m     \u001b[38;5;28;01mif\u001b[39;00m \u001b[38;5;129;01mnot\u001b[39;00m squared:\n\u001b[0;32m    502\u001b[0m         \u001b[38;5;28;01mreturn\u001b[39;00m root_mean_squared_error(\n\u001b[0;32m    503\u001b[0m             y_true, y_pred, sample_weight\u001b[38;5;241m=\u001b[39msample_weight, multioutput\u001b[38;5;241m=\u001b[39mmultioutput\n\u001b[0;32m    504\u001b[0m         )\n\u001b[1;32m--> 506\u001b[0m y_type, y_true, y_pred, multioutput \u001b[38;5;241m=\u001b[39m \u001b[43m_check_reg_targets\u001b[49m\u001b[43m(\u001b[49m\n\u001b[0;32m    507\u001b[0m \u001b[43m    \u001b[49m\u001b[43my_true\u001b[49m\u001b[43m,\u001b[49m\u001b[43m \u001b[49m\u001b[43my_pred\u001b[49m\u001b[43m,\u001b[49m\u001b[43m \u001b[49m\u001b[43mmultioutput\u001b[49m\n\u001b[0;32m    508\u001b[0m \u001b[43m\u001b[49m\u001b[43m)\u001b[49m\n\u001b[0;32m    509\u001b[0m check_consistent_length(y_true, y_pred, sample_weight)\n\u001b[0;32m    510\u001b[0m output_errors \u001b[38;5;241m=\u001b[39m np\u001b[38;5;241m.\u001b[39maverage((y_true \u001b[38;5;241m-\u001b[39m y_pred) \u001b[38;5;241m*\u001b[39m\u001b[38;5;241m*\u001b[39m \u001b[38;5;241m2\u001b[39m, axis\u001b[38;5;241m=\u001b[39m\u001b[38;5;241m0\u001b[39m, weights\u001b[38;5;241m=\u001b[39msample_weight)\n",
      "File \u001b[1;32mc:\\Users\\JORGE\\AppData\\Local\\Programs\\Python\\Python312\\Lib\\site-packages\\sklearn\\metrics\\_regression.py:111\u001b[0m, in \u001b[0;36m_check_reg_targets\u001b[1;34m(y_true, y_pred, multioutput, dtype, xp)\u001b[0m\n\u001b[0;32m     76\u001b[0m \u001b[38;5;250m\u001b[39m\u001b[38;5;124;03m\"\"\"Check that y_true and y_pred belong to the same regression task.\u001b[39;00m\n\u001b[0;32m     77\u001b[0m \n\u001b[0;32m     78\u001b[0m \u001b[38;5;124;03mParameters\u001b[39;00m\n\u001b[1;32m   (...)\u001b[0m\n\u001b[0;32m    107\u001b[0m \u001b[38;5;124;03m    correct keyword.\u001b[39;00m\n\u001b[0;32m    108\u001b[0m \u001b[38;5;124;03m\"\"\"\u001b[39;00m\n\u001b[0;32m    109\u001b[0m xp, _ \u001b[38;5;241m=\u001b[39m get_namespace(y_true, y_pred, multioutput, xp\u001b[38;5;241m=\u001b[39mxp)\n\u001b[1;32m--> 111\u001b[0m \u001b[43mcheck_consistent_length\u001b[49m\u001b[43m(\u001b[49m\u001b[43my_true\u001b[49m\u001b[43m,\u001b[49m\u001b[43m \u001b[49m\u001b[43my_pred\u001b[49m\u001b[43m)\u001b[49m\n\u001b[0;32m    112\u001b[0m y_true \u001b[38;5;241m=\u001b[39m check_array(y_true, ensure_2d\u001b[38;5;241m=\u001b[39m\u001b[38;5;28;01mFalse\u001b[39;00m, dtype\u001b[38;5;241m=\u001b[39mdtype)\n\u001b[0;32m    113\u001b[0m y_pred \u001b[38;5;241m=\u001b[39m check_array(y_pred, ensure_2d\u001b[38;5;241m=\u001b[39m\u001b[38;5;28;01mFalse\u001b[39;00m, dtype\u001b[38;5;241m=\u001b[39mdtype)\n",
      "File \u001b[1;32mc:\\Users\\JORGE\\AppData\\Local\\Programs\\Python\\Python312\\Lib\\site-packages\\sklearn\\utils\\validation.py:460\u001b[0m, in \u001b[0;36mcheck_consistent_length\u001b[1;34m(*arrays)\u001b[0m\n\u001b[0;32m    458\u001b[0m uniques \u001b[38;5;241m=\u001b[39m np\u001b[38;5;241m.\u001b[39munique(lengths)\n\u001b[0;32m    459\u001b[0m \u001b[38;5;28;01mif\u001b[39;00m \u001b[38;5;28mlen\u001b[39m(uniques) \u001b[38;5;241m>\u001b[39m \u001b[38;5;241m1\u001b[39m:\n\u001b[1;32m--> 460\u001b[0m     \u001b[38;5;28;01mraise\u001b[39;00m \u001b[38;5;167;01mValueError\u001b[39;00m(\n\u001b[0;32m    461\u001b[0m         \u001b[38;5;124m\"\u001b[39m\u001b[38;5;124mFound input variables with inconsistent numbers of samples: \u001b[39m\u001b[38;5;132;01m%r\u001b[39;00m\u001b[38;5;124m\"\u001b[39m\n\u001b[0;32m    462\u001b[0m         \u001b[38;5;241m%\u001b[39m [\u001b[38;5;28mint\u001b[39m(l) \u001b[38;5;28;01mfor\u001b[39;00m l \u001b[38;5;129;01min\u001b[39;00m lengths]\n\u001b[0;32m    463\u001b[0m     )\n",
      "\u001b[1;31mValueError\u001b[0m: Found input variables with inconsistent numbers of samples: [83980, 1]"
     ]
    }
   ],
   "source": [
    "# COMPARING PREDICTED VALUES VS THEORETICAL VALUES\n",
    "predictions = mdl.predict(xtrain)\n",
    "\n",
    "# Las predicciones serán una lista de arrays, uno por cada salida\n",
    "ypred1 = predictions[0]  # Predicciones para As_opt\n",
    "ypred2 = predictions[1]  # Predicciones para d_opt\n",
    "ypred3 = predictions[2]  # Predicciones para As_opt_p\n",
    "\n",
    "RMSE=sqrt(mean_squared_error(ytrain1,ypred1))\n",
    "RMSE=sqrt(mean_squared_error(ytrain2,ypred2))\n",
    "RMSE=sqrt(mean_squared_error(ytrain3,ypred3))\n",
    "\n",
    "# Coefficients\n",
    "m1, b1 = np.polyfit(ytrain1, ypred1, 1)\n",
    "m2, b2 = np.polyfit(ytrain2, ypred2, 1)\n",
    "m3, b3 = np.polyfit(ytrain3, ypred3, 1)\n",
    "\n",
    "#Plotting scatter points and 1st-degree polynom & plot info\n",
    "\n",
    "#plt.scatter(ypred1,ytrain1,facecolors = 'none',edgecolors='b')\n",
    "#plt.plot(ytrain1, m1*ytrain1 + b1, color='red')\n",
    "#plt.text(0.45, 0.2, f'$y = {m1} \\cdot x + {b1}$', fontsize=10, transform=plt.gca().transAxes)\n",
    "#plt.text(0.45, 0.15, f'RMSE={RMSE}', fontsize=10, transform=plt.gca().transAxes)\n",
    "#plt.xlabel('ANN predicted reinforcement area As (cm^2)')\n",
    "#plt.ylabel('Calculated reinforcement area As (cm^2)')\n",
    "#plt.title('Model 3 layers & 20 neurons // Data Training (Epoch = 150)')\n",
    "#\n",
    "#plt.scatter(ypred2,ytrain2,facecolors = 'none',edgecolors='b')\n",
    "#plt.plot(ytrain2, m2*ytrain2 + b2, color='red')\n",
    "#plt.text(0.45, 0.2, f'$y = {m2} \\cdot x + {b2}$', fontsize=10, transform=plt.gca().transAxes)\n",
    "#plt.text(0.45, 0.15, f'RMSE={RMSE}', fontsize=10, transform=plt.gca().transAxes)\n",
    "#plt.xlabel('ANN predicted depth d (cm)')\n",
    "#plt.ylabel('Calculated depth d (cm)')\n",
    "#plt.title('Model 3 layers & 20 neurons // Data Training (Epoch = 150)')\t\n",
    "#\n",
    "#plt.scatter(ypred3,ytrain3,facecolors = 'none',edgecolors='b')\n",
    "#plt.plot(ytrain3, m3*ytrain3 + b3, color='red')\n",
    "#plt.text(0.45, 0.2, f'$y = {m3} \\cdot x + {b3}$', fontsize=10, transform=plt.gca().transAxes)\n",
    "#plt.text(0.45, 0.15, f'RMSE={RMSE}', fontsize=10, transform=plt.gca().transAxes)\n",
    "#plt.xlabel('ANN predicted reinforcement area As (cm^2)')\n",
    "#plt.ylabel('Calculated reinforcement area As (cm^2)')\n",
    "#plt.title('Model 3 layers & 20 neurons // Data Training (Epoch = 150)')"
   ]
  }
 ],
 "metadata": {
  "kernelspec": {
   "display_name": "Python 3",
   "language": "python",
   "name": "python3"
  },
  "language_info": {
   "codemirror_mode": {
    "name": "ipython",
    "version": 3
   },
   "file_extension": ".py",
   "mimetype": "text/x-python",
   "name": "python",
   "nbconvert_exporter": "python",
   "pygments_lexer": "ipython3",
   "version": "3.12.3"
  }
 },
 "nbformat": 4,
 "nbformat_minor": 2
}
