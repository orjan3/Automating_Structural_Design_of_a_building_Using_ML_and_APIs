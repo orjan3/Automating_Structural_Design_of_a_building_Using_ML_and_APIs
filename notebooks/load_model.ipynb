{
 "cells": [
  {
   "cell_type": "code",
   "execution_count": 2,
   "metadata": {},
   "outputs": [],
   "source": [
    "from tensorflow.keras.models import load_model\n",
    "import numpy as np\n",
    "import pandas as pd"
   ]
  },
  {
   "cell_type": "code",
   "execution_count": 3,
   "metadata": {},
   "outputs": [],
   "source": [
    "def rmse(ytrue,ypred):\n",
    "  return tf.sqrt(tf.reduce_mean(tf.square(ytrue - ypred)))\n",
    "# Cargar el modelo guardado\n",
    "mdl = load_model(r'D:\\ToolBox\\.py\\rep_1\\models\\mdl_checkpoint_bms.keras', custom_objects={'rmse': rmse})"
   ]
  },
  {
   "cell_type": "code",
   "execution_count": 4,
   "metadata": {},
   "outputs": [
    {
     "name": "stdout",
     "output_type": "stream",
     "text": [
      "\u001b[1m1/1\u001b[0m \u001b[32m━━━━━━━━━━━━━━━━━━━━\u001b[0m\u001b[37m\u001b[0m \u001b[1m2s\u001b[0m 2s/step\n",
      "El Área de Acero (As) es [23.867273] cm^2, el peralte efectivo (d) es [24.077667] cm y el Área de Acero compresión (Asp) es [13.496619]\n"
     ]
    }
   ],
   "source": [
    "#Datos de ETABS\n",
    "fc = [21]\n",
    "fy = [410]\n",
    "Mu = [200]\n",
    "b =  [300]\n",
    "#Almacenamiento de datos del ETABS\n",
    "data_Etabs        = pd.DataFrame()\n",
    "data_Etabs ['fc'] = fc\n",
    "data_Etabs ['fy'] = fy\n",
    "data_Etabs ['Mu'] = Mu\n",
    "data_Etabs ['b']  = b\n",
    "#Evaluación en el Modelo entrenado por ANN\n",
    "predictions = mdl.predict(data_Etabs)\n",
    "y_As = predictions[0][0]  # Área de Acero (As)\n",
    "y_d = predictions[1][0]   # Peralte efectivo (d)\n",
    "y_Asp = predictions[2][0]  # Área de Acero compresión (Asp)\n",
    "#Printing   \n",
    "imprimir = f\"El Área de Acero (As) es {y_As} cm^2, el peralte efectivo (d) es {y_d} cm y el Área de Acero compresión (Asp) es {y_Asp}\"\n",
    "print(imprimir)"
   ]
  },
  {
   "cell_type": "code",
   "execution_count": 5,
   "metadata": {},
   "outputs": [
    {
     "name": "stdout",
     "output_type": "stream",
     "text": [
      "Terna de modelado:\n",
      "* As+: [23.867273] cm^2\n",
      "* d: [24.077667]\n",
      "* As-: [13.496619]\n",
      "\n",
      "Terna analítica:\n",
      "* As+: 23.49190469242176 cm^2\n",
      "* d: 23.38855542534441\n",
      "* As-: 13.30625925214037\n"
     ]
    }
   ],
   "source": [
    "# Lee el archivo de Excel\n",
    "df=pd.read_excel(r'D:\\ToolBox\\.py\\rep_1\\data\\processed\\db.xlsx')\n",
    "# Define las variables\n",
    "a = y_As, b = y_d, c = y_Asp\n",
    "\n",
    "# Calcula la distancia euclidiana entre las variables y cada fila del DataFrame\n",
    "distancias = np.sqrt((df['As_opt'] - a)**2 + (df['d_opt'] - b)**2 + (df['As_opt_p'] - c)**2)\n",
    "\n",
    "# Obtiene el índice de la fila con la menor distancia\n",
    "indice_min = np.argmin(distancias)\n",
    "\n",
    "# Imprime las ternas correspondientes a la fila con la menor distancia\n",
    "print(\"Terna de modelado:\")\n",
    "print(f\"* As+: {y_As} cm^2\")\n",
    "print(f\"* d: {y_d}\")\n",
    "print(f\"* As-: {y_Asp}\")\n",
    "\n",
    "print(\"\\nTerna analítica:\")\n",
    "print(f\"* As+: {df['As_opt'][indice_min]} cm^2\")\n",
    "print(f\"* d: {df['d_opt'][indice_min]}\")\n",
    "print(f\"* As-: {df['As_opt_p'][indice_min]}\")"
   ]
  }
 ],
 "metadata": {
  "kernelspec": {
   "display_name": "Python 3",
   "language": "python",
   "name": "python3"
  },
  "language_info": {
   "codemirror_mode": {
    "name": "ipython",
    "version": 3
   },
   "file_extension": ".py",
   "mimetype": "text/x-python",
   "name": "python",
   "nbconvert_exporter": "python",
   "pygments_lexer": "ipython3",
   "version": "3.12.3"
  }
 },
 "nbformat": 4,
 "nbformat_minor": 2
}
