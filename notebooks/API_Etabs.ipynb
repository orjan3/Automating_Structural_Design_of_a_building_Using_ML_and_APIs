{
 "cells": [
  {
   "cell_type": "code",
   "execution_count": 1,
   "metadata": {},
   "outputs": [],
   "source": [
    "#                                                   LIBRARIES\n",
    "import os\n",
    "import sys\n",
    "import comtypes.client\n",
    "import pandas as pd\n",
    "import numpy as np\n",
    "import matplotlib.pyplot as plt"
   ]
  },
  {
   "cell_type": "code",
   "execution_count": 2,
   "metadata": {},
   "outputs": [],
   "source": [
    "# OPEN API ETABS DOCUMENTATION \n",
    "ruta = r\"C:\\Program Files\\Computers and Structures\\ETABS 20\\CSI API ETABS v1.chm\"\n",
    "os.startfile(ruta)"
   ]
  },
  {
   "cell_type": "code",
   "execution_count": 4,
   "metadata": {},
   "outputs": [
    {
     "data": {
      "text/plain": [
       "0"
      ]
     },
     "execution_count": 4,
     "metadata": {},
     "output_type": "execute_result"
    }
   ],
   "source": [
    "#                                               INIT INSTANCE\n",
    "helper = comtypes.client.CreateObject('ETABSv1.Helper')\n",
    "helper = helper.QueryInterface(comtypes.gen.ETABSv1.cHelper)\n",
    "\n",
    "# myETABSObject = helper.CreateObjectProgID(\"CSI.ETABS.API.ETABSObject\")     # Abrir una nueva ventana de Etabs\n",
    "myETABSObject = helper.GetObject(\"CSI.ETABS.API.ETABSObject\")            # Trabajar con una ventana abierta de Etabs\n",
    "\n",
    "# myETABSObject.ApplicationStart()\n",
    "\n",
    "SapModel = myETABSObject.SapModel               # Crear un objeto SapModel\n",
    "\n",
    "SapModel.InitializeNewModel()                   # Iniciar Modelo\n",
    "\n",
    "SapModel.File.NewBlank()                        # Crear un modelo en blanco"
   ]
  },
  {
   "cell_type": "code",
   "execution_count": 5,
   "metadata": {},
   "outputs": [
    {
     "data": {
      "text/plain": [
       "0"
      ]
     },
     "execution_count": 5,
     "metadata": {},
     "output_type": "execute_result"
    }
   ],
   "source": [
    "#                                                   INSERT UNITS\n",
    "kgf_m_C = 8\n",
    "SapModel.SetPresentUnits(kgf_m_C)\n",
    "\n",
    "MATERIAL_CONCRETE = 2\n",
    "SapModel.PropMaterial.SetMaterial('CONCRETO280', MATERIAL_CONCRETE)\n",
    "E = 15000*(280**0.5)*10000   # (kgf/m2)\n",
    "SapModel.PropMaterial.SetMPIsotropic('CONCRETO280', E, 0.2, 9.90E-06)\n",
    "SapModel.PropMaterial.SetWeightAndMass('CONCRETO280', 1, 2400)\n",
    "SapModel.PropMaterial.SetOConcrete('CONCRETO280', 2800000, False, 0, 1, 2, 0.0022, 0.0052)\n",
    "\n",
    "MATERIAL_REBAR = 6\n",
    "SapModel.PropMaterial.SetMaterial('REBAR', MATERIAL_REBAR)\n",
    "SapModel.PropMaterial.SetMPIsotropic('REBAR', 2.0E10, 0.2, 9.90E-06)\n",
    "SapModel.PropMaterial.SetWeightAndMass('REBAR', 1, 7850)\n",
    "SapModel.PropMaterial.SetORebar(\"REBAR\", 42000000, 63000000, 46000000, 69000000, 2, 2, 0.02, 0.1, False)"
   ]
  },
  {
   "cell_type": "code",
   "execution_count": 6,
   "metadata": {},
   "outputs": [
    {
     "data": {
      "text/plain": [
       "0"
      ]
     },
     "execution_count": 6,
     "metadata": {},
     "output_type": "execute_result"
    }
   ],
   "source": [
    "#                                                   DEFINE: FRAMES\n",
    "# FrameObj Interface\n",
    "# Definir las propiedades de Seccion a un Frame rectangular\n",
    "SapModel.PropFrame.SetRectangle('R1',               # Nombre del nuevo frame\n",
    "                                'CONCRETO280',      # Nombre del Material, debe existir\n",
    "                                0.6,                # peralte\n",
    "                                0.3 )               # base\n",
    "                                \n",
    "# Datos extra para Frame Vigas        \n",
    "SapModel.PropFrame.SetRebarBeam(\"R1\",               # Nombre de un frame existente\n",
    "                                \"REBAR\",            # Material del acero longitudinal\n",
    "                                \"REBAR\",            # Material del acero transversal\n",
    "                                0.06,               # Recubrimiento superior   6cm\n",
    "                                0.06,               # Recubrimiento inferior   6cm\n",
    "                                1.29*10**-4,        # Top Left Area\n",
    "                                1.29*10**-4,        # Top Right Area\n",
    "                                1.29*10**-4,        # Bottom Left Area\n",
    "                                1.29*10**-4)        # Bottom Right Area\n",
    "\n",
    "## Añadir objeto Frame por Coordenadas\n",
    "#FrameName1 = ' '\n",
    "#[FrameName1, _] = SapModel.FrameObj.AddByCoord(0, 0, 0,      # Coordenadas X,Y,Z del punto inicial\n",
    "#                                              0, 0, 10,      # Coordenadas X,Y,Z del punto final\n",
    "#                                              FrameName1,    # Vacio, el programa asignará un nombre por defecto\n",
    "#                                              'R1')          # Nombre de la seccion, debe existir el nombre de esa seccion, opcional\n",
    "#FrameName2 = ' '\n",
    "#FrameName3 = ' '\n",
    "#[FrameName2, ret] = SapModel.FrameObj.AddByCoord(0, 0, 10, 8, 0, 16, FrameName2, 'R1')\n",
    "#[FrameName3, ret] = SapModel.FrameObj.AddByCoord(-4, 0, 10, 0, 0, 10, FrameName3, 'R1')"
   ]
  },
  {
   "cell_type": "code",
   "execution_count": 7,
   "metadata": {},
   "outputs": [
    {
     "name": "stdout",
     "output_type": "stream",
     "text": [
      "Nombres de los marcos creados:\n",
      "['Column_0_1', 'Column_0_2', 'Beam_0_1', 'Beam_0_2', 'Column_1_1', 'Column_1_2', 'Beam_1_1', 'Beam_1_2', 'Column_2_1', 'Column_2_2', 'Beam_2_1', 'Beam_2_2', 'Column_3_1', 'Column_3_2']\n",
      "Restricciones aplicadas a los nodos creados.\n",
      "Nombres de los nodos asociados a los marcos:\n",
      "['Column_0_1.1', 'Column_0_2.1', 'Beam_0_1.1', 'Beam_0_2.1', 'Column_1_1.1', 'Column_1_2.1', 'Beam_1_1.1', 'Beam_1_2.1', 'Column_2_1.1', 'Column_2_2.1', 'Beam_2_1.1', 'Beam_2_2.1', 'Column_3_1.1', 'Column_3_2.1']\n"
     ]
    }
   ],
   "source": [
    "# MODEL FRAMES CON RESTRAINTS\n",
    "b = 7   # m\n",
    "B = 7   # m\n",
    "H = 2.7 # m\n",
    "n_vanos = 4  # Número de vanos\n",
    "\n",
    "# Crear una lista para almacenar los nombres de los marcos\n",
    "FrameNames = []\n",
    "\n",
    "# Crear columnas y vigas para cada vano\n",
    "for i in range(n_vanos - 1):\n",
    "    # Nombres de los marcos para el vano actual\n",
    "    col_name1 = f'Column_{i}_1'\n",
    "    col_name2 = f'Column_{i}_2'\n",
    "    beam_name1 = f'Beam_{i}_1'\n",
    "    beam_name2 = f'Beam_{i}_2'\n",
    "\n",
    "    # Columnas\n",
    "    [col1, ret] = SapModel.FrameObj.AddByCoord(i * B, 0, 0, i * B, 0, H, col_name1, 'R1')\n",
    "    [col2, ret] = SapModel.FrameObj.AddByCoord(i * B + b, 0, 0, i * B + b, 0, H, col_name2, 'R1')\n",
    "    \n",
    "    # Vigas\n",
    "    [beam1, ret] = SapModel.FrameObj.AddByCoord(i * B, 0, H, (i + 1) * B, 0, H, beam_name1, 'R1')\n",
    "    [beam2, ret] = SapModel.FrameObj.AddByCoord(i * B + b, 0, H, (i + 1) * B + b, 0, H, beam_name2, 'R1')\n",
    "\n",
    "    # Agregar los nombres de los marcos a la lista\n",
    "    FrameNames.extend([col_name1, col_name2, beam_name1, beam_name2])\n",
    "\n",
    "# Agregar la última columna y su viga correspondiente\n",
    "last_col_name1 = f'Column_{n_vanos - 1}_1'\n",
    "last_col_name2 = f'Column_{n_vanos - 1}_2'\n",
    "[last_col1, ret] = SapModel.FrameObj.AddByCoord((n_vanos - 1) * B, 0, 0, (n_vanos - 1) * B, 0, H, last_col_name1, 'R1')\n",
    "[last_col2, ret] = SapModel.FrameObj.AddByCoord((n_vanos - 1) * B + b, 0, 0, (n_vanos - 1) * B + b, 0, H, last_col_name2, 'R1')\n",
    "FrameNames.extend([last_col_name1, last_col_name2])\n",
    "\n",
    "# Imprimir los nombres de los marcos creados\n",
    "print(\"Nombres de los marcos creados:\")\n",
    "print(FrameNames)\n",
    "\n",
    "# Aplicar restricciones a los nodos creados\n",
    "Restraint = [True,      # U1\n",
    "             True,      # U2\n",
    "             True,      # U3\n",
    "             True,      # R1\n",
    "             False,     # R2\n",
    "             False]     # R3\n",
    "\n",
    "for frame_name in FrameNames:\n",
    "    # Obtener el nombre del nodo asociado al marco\n",
    "    node_name = frame_name + '.1'\n",
    "    # Aplicar restricciones al nodo\n",
    "    SapModel.PointObj.SetRestraint(node_name, Restraint)\n",
    "\n",
    "# Mensaje de confirmación\n",
    "print(\"Restricciones aplicadas a los nodos creados.\")\n",
    "\n",
    "# Lista para almacenar los nombres de los nodos\n",
    "NodeNames = []\n",
    "\n",
    "# Obtener los nombres de los nodos asociados a los marcos creados\n",
    "for frame_name in FrameNames:\n",
    "    # Obtener el nombre del nodo asociado al marco\n",
    "    node_name = frame_name + '.1'\n",
    "    # Agregar el nombre del nodo a la lista\n",
    "    NodeNames.append(node_name)\n",
    "\n",
    "# Imprimir los nombres de los nodos\n",
    "print(\"Nombres de los nodos asociados a los marcos:\")\n",
    "print(NodeNames)\n",
    "\n"
   ]
  },
  {
   "cell_type": "code",
   "execution_count": 8,
   "metadata": {},
   "outputs": [
    {
     "data": {
      "text/plain": [
       "0"
      ]
     },
     "execution_count": 8,
     "metadata": {},
     "output_type": "execute_result"
    }
   ],
   "source": [
    "#                                                       DEFINE: SLABS\n",
    "SapModel.PropArea.SetSlab(\"Losa Macisa\",          # Nombre de la Losa\n",
    "                          0,                      # Slab Type - Slab\n",
    "                          1,                      # ShellType, ShellThin\n",
    "                          \"CONCRETO280\",          # Material\n",
    "                          0.15)                     # Thickness  \n",
    "\n",
    "#SapModel.PropArea.SetSlab(\"Slab Ribbed2\", 3, 1, \"CONCRETO280\", 0.20)\n",
    "#SapModel.PropArea.SetSlabRibbed(\"Slab Ribbed2\", 0.20, 0.05, 0.1, 0.1, 0.4, 1)\n",
    "# # Definir las propiedades de la Losa Slab\n",
    "# SapModel.PropArea.SetSlab(\"Slab Ribbed\",          # Nombre de la Losa\n",
    "#                           3,                      # Slab Type - Ribbed\n",
    "#                           3,                      # ShellType, ShellThin\n",
    "#                           \"CONCRETO280\",          # Material\n",
    "#                           0.15)                   # Thickness  \n",
    "\n",
    "# # Definir las propiedades de la Losa Ribbed\n",
    "# SapModel.PropArea.SetSlabRibbed(\"Slab Ribbed\",   # Nombre de la Losa\n",
    "#                                  11.1,           # OverallDepth              \n",
    "#                                  22.2,           # SlabThickness\n",
    "#                                  33.3,           # StemWidthTop\n",
    "#                                  44.4,           # StemWidthBottom\n",
    "#                                  55.5,           # RibSpacing\n",
    "#                                  2)              # RibsParallelTo - Local Axis"
   ]
  },
  {
   "cell_type": "code",
   "execution_count": 9,
   "metadata": {},
   "outputs": [
    {
     "data": {
      "text/plain": [
       "0"
      ]
     },
     "execution_count": 9,
     "metadata": {},
     "output_type": "execute_result"
    }
   ],
   "source": [
    "# MODEL: SLABS\n",
    "\n",
    "L = 7   # m\n",
    "b = 7   # m\n",
    "B = 7   # m\n",
    "H = 2.7 # m\n",
    "AreaName = ' '\n",
    "x = [0,B,b,0]\n",
    "y = [0,0,L,L]\n",
    "z = [H,H,H,H]\n",
    "SapModel.AreaObj.AddByCoord(4, # Numero de puntos que definen el area\n",
    "                            x, # Coordenadas X\n",
    "                            y, # Coordenadas Y\n",
    "                            z, # Coordenadas Z\n",
    "                            AreaName, # Vacio, el programa asignará un nombre por defecto\n",
    "                            \"Losa Macisa\")  # Nombre de la seccion, debe existir el nombre de esa seccion, opcional\n",
    "\n",
    "SapModel.View.RefreshView(0,          # 0: Refresh todas las ventanas\n",
    "                        False)        # False: No matener el zoom"
   ]
  },
  {
   "cell_type": "code",
   "execution_count": null,
   "metadata": {},
   "outputs": [
    {
     "data": {
      "text/plain": [
       "0"
      ]
     },
     "execution_count": 10,
     "metadata": {},
     "output_type": "execute_result"
    }
   ],
   "source": [
    "#                                               DEFINE: WALLS\n",
    "SapModel.PropArea.SetWall(\"Placa\",            # Name\n",
    "                          1,                  # WallPropType , Seccion Especificada por el usuario\n",
    "                          1,                  # Shell Type - Shell Thin   \n",
    "                          \"CONCRETO280\",      # Nombre del Material\n",
    "                          0.20)               # Thickness\n",
    "\n",
    "# MyValue = [1, 1, 1, 1, 1, 1, 1, 1, 1]\n",
    "# SapModel.PropArea.SetModifiers(\"Placa\", MyValue)\n"
   ]
  },
  {
   "cell_type": "code",
   "execution_count": null,
   "metadata": {},
   "outputs": [
    {
     "data": {
      "text/plain": [
       "0"
      ]
     },
     "execution_count": 11,
     "metadata": {},
     "output_type": "execute_result"
    }
   ],
   "source": [
    "# MODEL: WALLS\n",
    "\n",
    "AreaName = ' '\n",
    "x = [0,2,2,0]\n",
    "y = [0,0,0,0]\n",
    "z = [0,0,3,3]\n",
    "SapModel.AreaObj.AddByCoord(4, # Numero de puntos que definen el area\n",
    "                            x, # Coordenadas X\n",
    "                            y, # Coordenadas Y\n",
    "                            z, # Coordenadas Z\n",
    "                            AreaName, # Vacio, el programa asignará un nombre por defecto\n",
    "                            \"Placa\")  # Nombre de la seccion, debe existir el nombre de esa seccion, opcional\n",
    "SapModel.View.RefreshView(0,          # 0: Refresh todas las ventanas\n",
    "                        False)        # False: No matener el zoom#"
   ]
  },
  {
   "cell_type": "code",
   "execution_count": 10,
   "metadata": {},
   "outputs": [
    {
     "name": "stdout",
     "output_type": "stream",
     "text": [
      "Fuerza lateral de 500 kN insertada en el nodo Column_0_1.1 en dirección del eje x (GLOBAL).\n",
      "Fuerza lateral de 500 kN insertada en el nodo Column_0_2.1 en dirección del eje x (GLOBAL).\n",
      "Fuerza lateral de 500 kN insertada en el nodo Beam_0_1.1 en dirección del eje x (GLOBAL).\n",
      "Fuerza lateral de 500 kN insertada en el nodo Beam_0_2.1 en dirección del eje x (GLOBAL).\n",
      "Fuerza lateral de 500 kN insertada en el nodo Column_1_1.1 en dirección del eje x (GLOBAL).\n",
      "Fuerza lateral de 500 kN insertada en el nodo Column_1_2.1 en dirección del eje x (GLOBAL).\n",
      "Fuerza lateral de 500 kN insertada en el nodo Beam_1_1.1 en dirección del eje x (GLOBAL).\n",
      "Fuerza lateral de 500 kN insertada en el nodo Beam_1_2.1 en dirección del eje x (GLOBAL).\n",
      "Fuerza lateral de 500 kN insertada en el nodo Column_2_1.1 en dirección del eje x (GLOBAL).\n",
      "Fuerza lateral de 500 kN insertada en el nodo Column_2_2.1 en dirección del eje x (GLOBAL).\n",
      "Fuerza lateral de 500 kN insertada en el nodo Beam_2_1.1 en dirección del eje x (GLOBAL).\n",
      "Fuerza lateral de 500 kN insertada en el nodo Beam_2_2.1 en dirección del eje x (GLOBAL).\n",
      "Fuerza lateral de 500 kN insertada en el nodo Column_3_1.1 en dirección del eje x (GLOBAL).\n",
      "Fuerza lateral de 500 kN insertada en el nodo Column_3_2.1 en dirección del eje x (GLOBAL).\n"
     ]
    }
   ],
   "source": [
    "# Fuerza lateral de 500 kN\n",
    "lateral_force = 500  # kN\n",
    "\n",
    "# Iterar sobre cada nodo asociado a los marcos del pórtico\n",
    "for node_name in NodeNames:\n",
    "    # Insertar la fuerza lateral en el nodo en dirección del eje x (global)\n",
    "    ret = SapModel.PointObj.SetLoadForce(node_name, 'GLOBAL', [lateral_force, 0, 0])\n",
    "    \n",
    "    # Verificar si la inserción de la carga fue exitosa\n",
    "    if ret:\n",
    "        print(f\"Fuerza lateral de {lateral_force} kN insertada en el nodo {node_name} en dirección del eje x (GLOBAL).\")\n",
    "    else:\n",
    "        print(f\"Error al insertar la fuerza lateral en el nodo {node_name} en dirección del eje x (GLOBAL).\")\n",
    "\n",
    "## Añadir carga lateral al pórtico\n",
    "#\n",
    "## Nombre del nodo donde se aplicará la fuerza lateral (por ejemplo, el primer nodo de la primera columna)\n",
    "#node_name = 'FrameName1.1'\n",
    "#\n",
    "## Fuerza lateral de 100 kN\n",
    "#lateral_force = 300  # kN\n",
    "#\n",
    "## Insertar la fuerza lateral en el nodo\n",
    "#ret = SapModel.PointObj.SetLoadForce(node_name, 'GLOBAL', [lateral_force, 0, 0])\n",
    "#\n",
    "## Verificar si la inserción de la carga fue exitosa\n",
    "#if ret:\n",
    "#    print(\"Fuerza lateral insertada correctamente en el nodo:\", node_name)\n",
    "#else:\n",
    "#    print(\"Error al insertar la fuerza lateral en el nodo:\", node_name)"
   ]
  },
  {
   "cell_type": "code",
   "execution_count": 12,
   "metadata": {},
   "outputs": [
    {
     "data": {
      "text/plain": [
       "0"
      ]
     },
     "execution_count": 12,
     "metadata": {},
     "output_type": "execute_result"
    }
   ],
   "source": [
    "# SAVE MODEL\n",
    "ModelPath = r\"D:\\Softwares\\Etabs v20\\ejemplo_1\"\n",
    "SapModel.File.Save(ModelPath)"
   ]
  },
  {
   "cell_type": "code",
   "execution_count": 13,
   "metadata": {},
   "outputs": [
    {
     "data": {
      "text/plain": [
       "0"
      ]
     },
     "execution_count": 13,
     "metadata": {},
     "output_type": "execute_result"
    }
   ],
   "source": [
    "# RUN ANALYSIS\n",
    "SapModel.Analyze.RunAnalysis()"
   ]
  },
  {
   "cell_type": "code",
   "execution_count": null,
   "metadata": {},
   "outputs": [
    {
     "name": "stdout",
     "output_type": "stream",
     "text": [
      "Tipo de tables: <class 'list'>\n",
      "Contenido de tables: [(), 2, ('Story', 'Label', 'UniqueName', 'OutputCase', 'CaseType', 'StepType', 'StepNumber', 'StepLabel', 'FX', 'FY', 'FZ', 'MX', 'MY', 'MZ'), 16, ('Base', '1', '1', 'Dead', 'LinStatic', None, None, None, '1440.57', '1002.17', '5707.86', '0', '0', '0', 'Base', '1', '1', 'Live', 'LinStatic', None, None, None, '0', '0', '0', '0', '0', '0', 'Base', '2', '2', 'Dead', 'LinStatic', None, None, None, '-466.79', '564.56', '7233.85', '0', '0', '0', 'Base', '2', '2', 'Live', 'LinStatic', None, None, None, '0', '0', '0', '0', '0', '0', 'Base', '6', '6', 'Dead', 'LinStatic', None, None, None, '-375.83', '802.45', '8201.99', '0', '0', '0', 'Base', '6', '6', 'Live', 'LinStatic', None, None, None, '0', '0', '0', '0', '0', '0', 'Base', '9', '9', 'Dead', 'LinStatic', None, None, None, '1.53', '60.89', '3829.79', '0', '0', '0', 'Base', '9', '9', 'Live', 'LinStatic', None, None, None, '0', '0', '0', '0', '0', '0', 'Base', '11', '11', 'Dead', 'LinStatic', None, None, None, '28.36', '-12.73', '4068.75', '0', '0', '0', 'Base', '11', '11', 'Live', 'LinStatic', None, None, None, '0', '0', '0', '0', '0', '0', 'Base', '13', '13', 'Dead', 'LinStatic', None, None, None, '-444.83', '-1.18', '2443.36', '0', '0', '0', 'Base', '13', '13', 'Live', 'LinStatic', None, None, None, '0', '0', '0', '0', '0', '0', 'Base', '14', '14', 'Dead', 'LinStatic', None, None, None, '1596.69', '-1190.54', '8263.06', '0', '0', '0', 'Base', '14', '14', 'Live', 'LinStatic', None, None, None, '0', '0', '0', '0', '0', '0', 'Base', '16', '16', 'Dead', 'LinStatic', None, None, None, '-1779.7', '-1225.62', '8548.94', '0', '0', '0', 'Base', '16', '16', 'Live', 'LinStatic', None, None, None, '0', '0', '0', '0', '0', '0'), 0]\n",
      "Error al obtener la tabla.\n",
      "No se puede exportar la tabla: table no es un objeto válido.\n"
     ]
    }
   ],
   "source": [
    "# GET: TABLES OF ANALYSIS\n",
    "\n",
    "# Obtener la tabla \"Joint Reactions\"\n",
    "name_table = \"Joint Reactions\"\n",
    "tables = SapModel.DatabaseTables.GetTableForDisplayArray(name_table, GroupName=\"\")\n",
    "\n",
    "# Verificar el tipo y contenido de tables\n",
    "print(\"Tipo de tables:\", type(tables))\n",
    "print(\"Contenido de tables:\", tables)\n",
    "\n",
    "# Si tables es una tupla, asumimos que el primer elemento es la tabla que queremos\n",
    "if isinstance(tables, tuple):\n",
    "    table = tables[0]\n",
    "    print(\"Tabla obtenida correctamente.\")\n",
    "else:\n",
    "    print(\"Error al obtener la tabla.\")\n",
    "\n",
    "# Nombre del archivo Excel de salida\n",
    "excel_file = \"Joint_Reactions.xlsx\"\n",
    "\n",
    "# Ruta completa del archivo Excel\n",
    "excel_path = os.path.join(r\"D:\\Softwares\\Etabs v20\\JointReactions\", excel_file)\n",
    "\n",
    "# Exportar la tabla a un archivo Excel si table es un objeto válido\n",
    "if hasattr(table, \"ExportSpreadsheet\"):\n",
    "    ret = table.ExportSpreadsheet(excel_path)\n",
    "    # Verificar si la exportación fue exitosa\n",
    "    if ret:\n",
    "        print(f\"La tabla '{name_table}' se ha exportado correctamente a '{excel_file}'.\")\n",
    "    else:\n",
    "        print(f\"Error al exportar la tabla '{name_table}' a '{excel_file}'.\")\n",
    "else:\n",
    "    print(\"No se puede exportar la tabla: table no es un objeto válido.\")\n"
   ]
  }
 ],
 "metadata": {
  "kernelspec": {
   "display_name": "Python 3",
   "language": "python",
   "name": "python3"
  },
  "language_info": {
   "codemirror_mode": {
    "name": "ipython",
    "version": 3
   },
   "file_extension": ".py",
   "mimetype": "text/x-python",
   "name": "python",
   "nbconvert_exporter": "python",
   "pygments_lexer": "ipython3",
   "version": "3.11.9"
  },
  "orig_nbformat": 4
 },
 "nbformat": 4,
 "nbformat_minor": 2
}
